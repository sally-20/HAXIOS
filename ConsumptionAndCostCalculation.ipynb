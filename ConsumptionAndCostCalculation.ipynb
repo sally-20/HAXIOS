{
  "cells": [
    {
      "cell_type": "markdown",
      "metadata": {
        "id": "view-in-github",
        "colab_type": "text"
      },
      "source": [
        "<a href=\"https://colab.research.google.com/github/sally-20/HAXIOS/blob/main/ConsumptionAndCostCalculation.ipynb\" target=\"_parent\"><img src=\"https://colab.research.google.com/assets/colab-badge.svg\" alt=\"Open In Colab\"/></a>"
      ]
    },
    {
      "cell_type": "code",
      "execution_count": null,
      "metadata": {
        "id": "fbBRCPaPzeXo"
      },
      "outputs": [],
      "source": [
        "# we will use the pandas library for data analysis and manipulation.\n",
        "import pandas as pd\n",
        "\n",
        "# Often we need some functions from numpy for adding support for large, multi-dimensional arrays and matrices.\n",
        "import numpy as np\n",
        "\n",
        "# For data visualization, we import matplotlib\n",
        "import matplotlib.pyplot as plt"
      ]
    },
    {
      "cell_type": "code",
      "execution_count": null,
      "metadata": {
        "colab": {
          "base_uri": "https://localhost:8080/",
          "height": 423
        },
        "id": "jo6YWzAnzrkE",
        "outputId": "f2e4ca9e-9853-48a2-a965-362aa6b1b085"
      },
      "outputs": [
        {
          "output_type": "execute_result",
          "data": {
            "text/plain": [
              "                     Time  building 41\n",
              "0     2016-01-01 01:00:00    23.783228\n",
              "1     2016-01-01 02:00:00    23.783228\n",
              "2     2016-01-01 03:00:00    23.783228\n",
              "3     2016-01-01 04:00:00    23.783228\n",
              "4     2016-01-01 05:00:00    23.783228\n",
              "...                   ...          ...\n",
              "26298 2018-12-31 19:00:00    18.602723\n",
              "26299 2018-12-31 20:00:00    18.838200\n",
              "26300 2018-12-31 21:00:00    18.602723\n",
              "26301 2018-12-31 22:00:00    18.131768\n",
              "26302 2018-12-31 23:00:00    18.602723\n",
              "\n",
              "[26303 rows x 2 columns]"
            ],
            "text/html": [
              "\n",
              "  <div id=\"df-31f3f972-6022-415a-903f-6af7a8de449d\">\n",
              "    <div class=\"colab-df-container\">\n",
              "      <div>\n",
              "<style scoped>\n",
              "    .dataframe tbody tr th:only-of-type {\n",
              "        vertical-align: middle;\n",
              "    }\n",
              "\n",
              "    .dataframe tbody tr th {\n",
              "        vertical-align: top;\n",
              "    }\n",
              "\n",
              "    .dataframe thead th {\n",
              "        text-align: right;\n",
              "    }\n",
              "</style>\n",
              "<table border=\"1\" class=\"dataframe\">\n",
              "  <thead>\n",
              "    <tr style=\"text-align: right;\">\n",
              "      <th></th>\n",
              "      <th>Time</th>\n",
              "      <th>building 41</th>\n",
              "    </tr>\n",
              "  </thead>\n",
              "  <tbody>\n",
              "    <tr>\n",
              "      <th>0</th>\n",
              "      <td>2016-01-01 01:00:00</td>\n",
              "      <td>23.783228</td>\n",
              "    </tr>\n",
              "    <tr>\n",
              "      <th>1</th>\n",
              "      <td>2016-01-01 02:00:00</td>\n",
              "      <td>23.783228</td>\n",
              "    </tr>\n",
              "    <tr>\n",
              "      <th>2</th>\n",
              "      <td>2016-01-01 03:00:00</td>\n",
              "      <td>23.783228</td>\n",
              "    </tr>\n",
              "    <tr>\n",
              "      <th>3</th>\n",
              "      <td>2016-01-01 04:00:00</td>\n",
              "      <td>23.783228</td>\n",
              "    </tr>\n",
              "    <tr>\n",
              "      <th>4</th>\n",
              "      <td>2016-01-01 05:00:00</td>\n",
              "      <td>23.783228</td>\n",
              "    </tr>\n",
              "    <tr>\n",
              "      <th>...</th>\n",
              "      <td>...</td>\n",
              "      <td>...</td>\n",
              "    </tr>\n",
              "    <tr>\n",
              "      <th>26298</th>\n",
              "      <td>2018-12-31 19:00:00</td>\n",
              "      <td>18.602723</td>\n",
              "    </tr>\n",
              "    <tr>\n",
              "      <th>26299</th>\n",
              "      <td>2018-12-31 20:00:00</td>\n",
              "      <td>18.838200</td>\n",
              "    </tr>\n",
              "    <tr>\n",
              "      <th>26300</th>\n",
              "      <td>2018-12-31 21:00:00</td>\n",
              "      <td>18.602723</td>\n",
              "    </tr>\n",
              "    <tr>\n",
              "      <th>26301</th>\n",
              "      <td>2018-12-31 22:00:00</td>\n",
              "      <td>18.131768</td>\n",
              "    </tr>\n",
              "    <tr>\n",
              "      <th>26302</th>\n",
              "      <td>2018-12-31 23:00:00</td>\n",
              "      <td>18.602723</td>\n",
              "    </tr>\n",
              "  </tbody>\n",
              "</table>\n",
              "<p>26303 rows × 2 columns</p>\n",
              "</div>\n",
              "      <button class=\"colab-df-convert\" onclick=\"convertToInteractive('df-31f3f972-6022-415a-903f-6af7a8de449d')\"\n",
              "              title=\"Convert this dataframe to an interactive table.\"\n",
              "              style=\"display:none;\">\n",
              "        \n",
              "  <svg xmlns=\"http://www.w3.org/2000/svg\" height=\"24px\"viewBox=\"0 0 24 24\"\n",
              "       width=\"24px\">\n",
              "    <path d=\"M0 0h24v24H0V0z\" fill=\"none\"/>\n",
              "    <path d=\"M18.56 5.44l.94 2.06.94-2.06 2.06-.94-2.06-.94-.94-2.06-.94 2.06-2.06.94zm-11 1L8.5 8.5l.94-2.06 2.06-.94-2.06-.94L8.5 2.5l-.94 2.06-2.06.94zm10 10l.94 2.06.94-2.06 2.06-.94-2.06-.94-.94-2.06-.94 2.06-2.06.94z\"/><path d=\"M17.41 7.96l-1.37-1.37c-.4-.4-.92-.59-1.43-.59-.52 0-1.04.2-1.43.59L10.3 9.45l-7.72 7.72c-.78.78-.78 2.05 0 2.83L4 21.41c.39.39.9.59 1.41.59.51 0 1.02-.2 1.41-.59l7.78-7.78 2.81-2.81c.8-.78.8-2.07 0-2.86zM5.41 20L4 18.59l7.72-7.72 1.47 1.35L5.41 20z\"/>\n",
              "  </svg>\n",
              "      </button>\n",
              "      \n",
              "  <style>\n",
              "    .colab-df-container {\n",
              "      display:flex;\n",
              "      flex-wrap:wrap;\n",
              "      gap: 12px;\n",
              "    }\n",
              "\n",
              "    .colab-df-convert {\n",
              "      background-color: #E8F0FE;\n",
              "      border: none;\n",
              "      border-radius: 50%;\n",
              "      cursor: pointer;\n",
              "      display: none;\n",
              "      fill: #1967D2;\n",
              "      height: 32px;\n",
              "      padding: 0 0 0 0;\n",
              "      width: 32px;\n",
              "    }\n",
              "\n",
              "    .colab-df-convert:hover {\n",
              "      background-color: #E2EBFA;\n",
              "      box-shadow: 0px 1px 2px rgba(60, 64, 67, 0.3), 0px 1px 3px 1px rgba(60, 64, 67, 0.15);\n",
              "      fill: #174EA6;\n",
              "    }\n",
              "\n",
              "    [theme=dark] .colab-df-convert {\n",
              "      background-color: #3B4455;\n",
              "      fill: #D2E3FC;\n",
              "    }\n",
              "\n",
              "    [theme=dark] .colab-df-convert:hover {\n",
              "      background-color: #434B5C;\n",
              "      box-shadow: 0px 1px 3px 1px rgba(0, 0, 0, 0.15);\n",
              "      filter: drop-shadow(0px 1px 2px rgba(0, 0, 0, 0.3));\n",
              "      fill: #FFFFFF;\n",
              "    }\n",
              "  </style>\n",
              "\n",
              "      <script>\n",
              "        const buttonEl =\n",
              "          document.querySelector('#df-31f3f972-6022-415a-903f-6af7a8de449d button.colab-df-convert');\n",
              "        buttonEl.style.display =\n",
              "          google.colab.kernel.accessAllowed ? 'block' : 'none';\n",
              "\n",
              "        async function convertToInteractive(key) {\n",
              "          const element = document.querySelector('#df-31f3f972-6022-415a-903f-6af7a8de449d');\n",
              "          const dataTable =\n",
              "            await google.colab.kernel.invokeFunction('convertToInteractive',\n",
              "                                                     [key], {});\n",
              "          if (!dataTable) return;\n",
              "\n",
              "          const docLinkHtml = 'Like what you see? Visit the ' +\n",
              "            '<a target=\"_blank\" href=https://colab.research.google.com/notebooks/data_table.ipynb>data table notebook</a>'\n",
              "            + ' to learn more about interactive tables.';\n",
              "          element.innerHTML = '';\n",
              "          dataTable['output_type'] = 'display_data';\n",
              "          await google.colab.output.renderOutput(dataTable, element);\n",
              "          const docLink = document.createElement('div');\n",
              "          docLink.innerHTML = docLinkHtml;\n",
              "          element.appendChild(docLink);\n",
              "        }\n",
              "      </script>\n",
              "    </div>\n",
              "  </div>\n",
              "  "
            ]
          },
          "metadata": {},
          "execution_count": 2
        }
      ],
      "source": [
        "Energy1 = pd.read_excel('/content/drive/MyDrive/Dataset/Building energy consumption record.xlsx')\n",
        "Energy1"
      ]
    },
    {
      "cell_type": "code",
      "execution_count": null,
      "metadata": {
        "colab": {
          "base_uri": "https://localhost:8080/",
          "height": 455
        },
        "id": "kVTscPa8zrxV",
        "outputId": "9c47cb83-1922-43a7-eb57-f3e0bec015f3"
      },
      "outputs": [
        {
          "output_type": "execute_result",
          "data": {
            "text/plain": [
              "                     building 41\n",
              "Time                            \n",
              "2016-01-01 01:00:00    23.783228\n",
              "2016-01-01 02:00:00    23.783228\n",
              "2016-01-01 03:00:00    23.783228\n",
              "2016-01-01 04:00:00    23.783228\n",
              "2016-01-01 05:00:00    23.783228\n",
              "...                          ...\n",
              "2018-12-31 19:00:00    18.602723\n",
              "2018-12-31 20:00:00    18.838200\n",
              "2018-12-31 21:00:00    18.602723\n",
              "2018-12-31 22:00:00    18.131768\n",
              "2018-12-31 23:00:00    18.602723\n",
              "\n",
              "[26303 rows x 1 columns]"
            ],
            "text/html": [
              "\n",
              "  <div id=\"df-65323770-11b9-44b6-88be-7520e11cdbf8\">\n",
              "    <div class=\"colab-df-container\">\n",
              "      <div>\n",
              "<style scoped>\n",
              "    .dataframe tbody tr th:only-of-type {\n",
              "        vertical-align: middle;\n",
              "    }\n",
              "\n",
              "    .dataframe tbody tr th {\n",
              "        vertical-align: top;\n",
              "    }\n",
              "\n",
              "    .dataframe thead th {\n",
              "        text-align: right;\n",
              "    }\n",
              "</style>\n",
              "<table border=\"1\" class=\"dataframe\">\n",
              "  <thead>\n",
              "    <tr style=\"text-align: right;\">\n",
              "      <th></th>\n",
              "      <th>building 41</th>\n",
              "    </tr>\n",
              "    <tr>\n",
              "      <th>Time</th>\n",
              "      <th></th>\n",
              "    </tr>\n",
              "  </thead>\n",
              "  <tbody>\n",
              "    <tr>\n",
              "      <th>2016-01-01 01:00:00</th>\n",
              "      <td>23.783228</td>\n",
              "    </tr>\n",
              "    <tr>\n",
              "      <th>2016-01-01 02:00:00</th>\n",
              "      <td>23.783228</td>\n",
              "    </tr>\n",
              "    <tr>\n",
              "      <th>2016-01-01 03:00:00</th>\n",
              "      <td>23.783228</td>\n",
              "    </tr>\n",
              "    <tr>\n",
              "      <th>2016-01-01 04:00:00</th>\n",
              "      <td>23.783228</td>\n",
              "    </tr>\n",
              "    <tr>\n",
              "      <th>2016-01-01 05:00:00</th>\n",
              "      <td>23.783228</td>\n",
              "    </tr>\n",
              "    <tr>\n",
              "      <th>...</th>\n",
              "      <td>...</td>\n",
              "    </tr>\n",
              "    <tr>\n",
              "      <th>2018-12-31 19:00:00</th>\n",
              "      <td>18.602723</td>\n",
              "    </tr>\n",
              "    <tr>\n",
              "      <th>2018-12-31 20:00:00</th>\n",
              "      <td>18.838200</td>\n",
              "    </tr>\n",
              "    <tr>\n",
              "      <th>2018-12-31 21:00:00</th>\n",
              "      <td>18.602723</td>\n",
              "    </tr>\n",
              "    <tr>\n",
              "      <th>2018-12-31 22:00:00</th>\n",
              "      <td>18.131768</td>\n",
              "    </tr>\n",
              "    <tr>\n",
              "      <th>2018-12-31 23:00:00</th>\n",
              "      <td>18.602723</td>\n",
              "    </tr>\n",
              "  </tbody>\n",
              "</table>\n",
              "<p>26303 rows × 1 columns</p>\n",
              "</div>\n",
              "      <button class=\"colab-df-convert\" onclick=\"convertToInteractive('df-65323770-11b9-44b6-88be-7520e11cdbf8')\"\n",
              "              title=\"Convert this dataframe to an interactive table.\"\n",
              "              style=\"display:none;\">\n",
              "        \n",
              "  <svg xmlns=\"http://www.w3.org/2000/svg\" height=\"24px\"viewBox=\"0 0 24 24\"\n",
              "       width=\"24px\">\n",
              "    <path d=\"M0 0h24v24H0V0z\" fill=\"none\"/>\n",
              "    <path d=\"M18.56 5.44l.94 2.06.94-2.06 2.06-.94-2.06-.94-.94-2.06-.94 2.06-2.06.94zm-11 1L8.5 8.5l.94-2.06 2.06-.94-2.06-.94L8.5 2.5l-.94 2.06-2.06.94zm10 10l.94 2.06.94-2.06 2.06-.94-2.06-.94-.94-2.06-.94 2.06-2.06.94z\"/><path d=\"M17.41 7.96l-1.37-1.37c-.4-.4-.92-.59-1.43-.59-.52 0-1.04.2-1.43.59L10.3 9.45l-7.72 7.72c-.78.78-.78 2.05 0 2.83L4 21.41c.39.39.9.59 1.41.59.51 0 1.02-.2 1.41-.59l7.78-7.78 2.81-2.81c.8-.78.8-2.07 0-2.86zM5.41 20L4 18.59l7.72-7.72 1.47 1.35L5.41 20z\"/>\n",
              "  </svg>\n",
              "      </button>\n",
              "      \n",
              "  <style>\n",
              "    .colab-df-container {\n",
              "      display:flex;\n",
              "      flex-wrap:wrap;\n",
              "      gap: 12px;\n",
              "    }\n",
              "\n",
              "    .colab-df-convert {\n",
              "      background-color: #E8F0FE;\n",
              "      border: none;\n",
              "      border-radius: 50%;\n",
              "      cursor: pointer;\n",
              "      display: none;\n",
              "      fill: #1967D2;\n",
              "      height: 32px;\n",
              "      padding: 0 0 0 0;\n",
              "      width: 32px;\n",
              "    }\n",
              "\n",
              "    .colab-df-convert:hover {\n",
              "      background-color: #E2EBFA;\n",
              "      box-shadow: 0px 1px 2px rgba(60, 64, 67, 0.3), 0px 1px 3px 1px rgba(60, 64, 67, 0.15);\n",
              "      fill: #174EA6;\n",
              "    }\n",
              "\n",
              "    [theme=dark] .colab-df-convert {\n",
              "      background-color: #3B4455;\n",
              "      fill: #D2E3FC;\n",
              "    }\n",
              "\n",
              "    [theme=dark] .colab-df-convert:hover {\n",
              "      background-color: #434B5C;\n",
              "      box-shadow: 0px 1px 3px 1px rgba(0, 0, 0, 0.15);\n",
              "      filter: drop-shadow(0px 1px 2px rgba(0, 0, 0, 0.3));\n",
              "      fill: #FFFFFF;\n",
              "    }\n",
              "  </style>\n",
              "\n",
              "      <script>\n",
              "        const buttonEl =\n",
              "          document.querySelector('#df-65323770-11b9-44b6-88be-7520e11cdbf8 button.colab-df-convert');\n",
              "        buttonEl.style.display =\n",
              "          google.colab.kernel.accessAllowed ? 'block' : 'none';\n",
              "\n",
              "        async function convertToInteractive(key) {\n",
              "          const element = document.querySelector('#df-65323770-11b9-44b6-88be-7520e11cdbf8');\n",
              "          const dataTable =\n",
              "            await google.colab.kernel.invokeFunction('convertToInteractive',\n",
              "                                                     [key], {});\n",
              "          if (!dataTable) return;\n",
              "\n",
              "          const docLinkHtml = 'Like what you see? Visit the ' +\n",
              "            '<a target=\"_blank\" href=https://colab.research.google.com/notebooks/data_table.ipynb>data table notebook</a>'\n",
              "            + ' to learn more about interactive tables.';\n",
              "          element.innerHTML = '';\n",
              "          dataTable['output_type'] = 'display_data';\n",
              "          await google.colab.output.renderOutput(dataTable, element);\n",
              "          const docLink = document.createElement('div');\n",
              "          docLink.innerHTML = docLinkHtml;\n",
              "          element.appendChild(docLink);\n",
              "        }\n",
              "      </script>\n",
              "    </div>\n",
              "  </div>\n",
              "  "
            ]
          },
          "metadata": {},
          "execution_count": 3
        }
      ],
      "source": [
        "# set time column as index\n",
        "Energy = Energy1.set_index('Time')\n",
        "Energy"
      ]
    },
    {
      "cell_type": "code",
      "execution_count": null,
      "metadata": {
        "colab": {
          "base_uri": "https://localhost:8080/",
          "height": 300
        },
        "id": "gWU1lar2zyya",
        "outputId": "29aed98c-db5f-45f0-daab-92077687e6f6"
      },
      "outputs": [
        {
          "output_type": "execute_result",
          "data": {
            "text/plain": [
              "        building 41\n",
              "count  26303.000000\n",
              "mean      25.694969\n",
              "std        6.317738\n",
              "min       15.541515\n",
              "25%       20.957498\n",
              "50%       23.783228\n",
              "75%       28.728255\n",
              "max       59.340330"
            ],
            "text/html": [
              "\n",
              "  <div id=\"df-539ec177-c655-4e22-9d49-5129c630114a\">\n",
              "    <div class=\"colab-df-container\">\n",
              "      <div>\n",
              "<style scoped>\n",
              "    .dataframe tbody tr th:only-of-type {\n",
              "        vertical-align: middle;\n",
              "    }\n",
              "\n",
              "    .dataframe tbody tr th {\n",
              "        vertical-align: top;\n",
              "    }\n",
              "\n",
              "    .dataframe thead th {\n",
              "        text-align: right;\n",
              "    }\n",
              "</style>\n",
              "<table border=\"1\" class=\"dataframe\">\n",
              "  <thead>\n",
              "    <tr style=\"text-align: right;\">\n",
              "      <th></th>\n",
              "      <th>building 41</th>\n",
              "    </tr>\n",
              "  </thead>\n",
              "  <tbody>\n",
              "    <tr>\n",
              "      <th>count</th>\n",
              "      <td>26303.000000</td>\n",
              "    </tr>\n",
              "    <tr>\n",
              "      <th>mean</th>\n",
              "      <td>25.694969</td>\n",
              "    </tr>\n",
              "    <tr>\n",
              "      <th>std</th>\n",
              "      <td>6.317738</td>\n",
              "    </tr>\n",
              "    <tr>\n",
              "      <th>min</th>\n",
              "      <td>15.541515</td>\n",
              "    </tr>\n",
              "    <tr>\n",
              "      <th>25%</th>\n",
              "      <td>20.957498</td>\n",
              "    </tr>\n",
              "    <tr>\n",
              "      <th>50%</th>\n",
              "      <td>23.783228</td>\n",
              "    </tr>\n",
              "    <tr>\n",
              "      <th>75%</th>\n",
              "      <td>28.728255</td>\n",
              "    </tr>\n",
              "    <tr>\n",
              "      <th>max</th>\n",
              "      <td>59.340330</td>\n",
              "    </tr>\n",
              "  </tbody>\n",
              "</table>\n",
              "</div>\n",
              "      <button class=\"colab-df-convert\" onclick=\"convertToInteractive('df-539ec177-c655-4e22-9d49-5129c630114a')\"\n",
              "              title=\"Convert this dataframe to an interactive table.\"\n",
              "              style=\"display:none;\">\n",
              "        \n",
              "  <svg xmlns=\"http://www.w3.org/2000/svg\" height=\"24px\"viewBox=\"0 0 24 24\"\n",
              "       width=\"24px\">\n",
              "    <path d=\"M0 0h24v24H0V0z\" fill=\"none\"/>\n",
              "    <path d=\"M18.56 5.44l.94 2.06.94-2.06 2.06-.94-2.06-.94-.94-2.06-.94 2.06-2.06.94zm-11 1L8.5 8.5l.94-2.06 2.06-.94-2.06-.94L8.5 2.5l-.94 2.06-2.06.94zm10 10l.94 2.06.94-2.06 2.06-.94-2.06-.94-.94-2.06-.94 2.06-2.06.94z\"/><path d=\"M17.41 7.96l-1.37-1.37c-.4-.4-.92-.59-1.43-.59-.52 0-1.04.2-1.43.59L10.3 9.45l-7.72 7.72c-.78.78-.78 2.05 0 2.83L4 21.41c.39.39.9.59 1.41.59.51 0 1.02-.2 1.41-.59l7.78-7.78 2.81-2.81c.8-.78.8-2.07 0-2.86zM5.41 20L4 18.59l7.72-7.72 1.47 1.35L5.41 20z\"/>\n",
              "  </svg>\n",
              "      </button>\n",
              "      \n",
              "  <style>\n",
              "    .colab-df-container {\n",
              "      display:flex;\n",
              "      flex-wrap:wrap;\n",
              "      gap: 12px;\n",
              "    }\n",
              "\n",
              "    .colab-df-convert {\n",
              "      background-color: #E8F0FE;\n",
              "      border: none;\n",
              "      border-radius: 50%;\n",
              "      cursor: pointer;\n",
              "      display: none;\n",
              "      fill: #1967D2;\n",
              "      height: 32px;\n",
              "      padding: 0 0 0 0;\n",
              "      width: 32px;\n",
              "    }\n",
              "\n",
              "    .colab-df-convert:hover {\n",
              "      background-color: #E2EBFA;\n",
              "      box-shadow: 0px 1px 2px rgba(60, 64, 67, 0.3), 0px 1px 3px 1px rgba(60, 64, 67, 0.15);\n",
              "      fill: #174EA6;\n",
              "    }\n",
              "\n",
              "    [theme=dark] .colab-df-convert {\n",
              "      background-color: #3B4455;\n",
              "      fill: #D2E3FC;\n",
              "    }\n",
              "\n",
              "    [theme=dark] .colab-df-convert:hover {\n",
              "      background-color: #434B5C;\n",
              "      box-shadow: 0px 1px 3px 1px rgba(0, 0, 0, 0.15);\n",
              "      filter: drop-shadow(0px 1px 2px rgba(0, 0, 0, 0.3));\n",
              "      fill: #FFFFFF;\n",
              "    }\n",
              "  </style>\n",
              "\n",
              "      <script>\n",
              "        const buttonEl =\n",
              "          document.querySelector('#df-539ec177-c655-4e22-9d49-5129c630114a button.colab-df-convert');\n",
              "        buttonEl.style.display =\n",
              "          google.colab.kernel.accessAllowed ? 'block' : 'none';\n",
              "\n",
              "        async function convertToInteractive(key) {\n",
              "          const element = document.querySelector('#df-539ec177-c655-4e22-9d49-5129c630114a');\n",
              "          const dataTable =\n",
              "            await google.colab.kernel.invokeFunction('convertToInteractive',\n",
              "                                                     [key], {});\n",
              "          if (!dataTable) return;\n",
              "\n",
              "          const docLinkHtml = 'Like what you see? Visit the ' +\n",
              "            '<a target=\"_blank\" href=https://colab.research.google.com/notebooks/data_table.ipynb>data table notebook</a>'\n",
              "            + ' to learn more about interactive tables.';\n",
              "          element.innerHTML = '';\n",
              "          dataTable['output_type'] = 'display_data';\n",
              "          await google.colab.output.renderOutput(dataTable, element);\n",
              "          const docLink = document.createElement('div');\n",
              "          docLink.innerHTML = docLinkHtml;\n",
              "          element.appendChild(docLink);\n",
              "        }\n",
              "      </script>\n",
              "    </div>\n",
              "  </div>\n",
              "  "
            ]
          },
          "metadata": {},
          "execution_count": 4
        }
      ],
      "source": [
        "# Check the description of the data\n",
        "Energy.describe()"
      ]
    },
    {
      "cell_type": "code",
      "execution_count": null,
      "metadata": {
        "colab": {
          "base_uri": "https://localhost:8080/",
          "height": 300
        },
        "id": "Mhxs0HQVz1sz",
        "outputId": "3410b25f-09ce-4d76-d4fc-37d7daaaecca"
      },
      "outputs": [
        {
          "output_type": "execute_result",
          "data": {
            "text/plain": [
              "        building 41\n",
              "count  26303.000000\n",
              "mean      25.694969\n",
              "std        6.317738\n",
              "min       15.541515\n",
              "25%       20.957498\n",
              "50%       23.783228\n",
              "75%       28.728255\n",
              "max       59.340330"
            ],
            "text/html": [
              "\n",
              "  <div id=\"df-9fc4f655-972e-4659-8cff-077fb0bb3daf\">\n",
              "    <div class=\"colab-df-container\">\n",
              "      <div>\n",
              "<style scoped>\n",
              "    .dataframe tbody tr th:only-of-type {\n",
              "        vertical-align: middle;\n",
              "    }\n",
              "\n",
              "    .dataframe tbody tr th {\n",
              "        vertical-align: top;\n",
              "    }\n",
              "\n",
              "    .dataframe thead th {\n",
              "        text-align: right;\n",
              "    }\n",
              "</style>\n",
              "<table border=\"1\" class=\"dataframe\">\n",
              "  <thead>\n",
              "    <tr style=\"text-align: right;\">\n",
              "      <th></th>\n",
              "      <th>building 41</th>\n",
              "    </tr>\n",
              "  </thead>\n",
              "  <tbody>\n",
              "    <tr>\n",
              "      <th>count</th>\n",
              "      <td>26303.000000</td>\n",
              "    </tr>\n",
              "    <tr>\n",
              "      <th>mean</th>\n",
              "      <td>25.694969</td>\n",
              "    </tr>\n",
              "    <tr>\n",
              "      <th>std</th>\n",
              "      <td>6.317738</td>\n",
              "    </tr>\n",
              "    <tr>\n",
              "      <th>min</th>\n",
              "      <td>15.541515</td>\n",
              "    </tr>\n",
              "    <tr>\n",
              "      <th>25%</th>\n",
              "      <td>20.957498</td>\n",
              "    </tr>\n",
              "    <tr>\n",
              "      <th>50%</th>\n",
              "      <td>23.783228</td>\n",
              "    </tr>\n",
              "    <tr>\n",
              "      <th>75%</th>\n",
              "      <td>28.728255</td>\n",
              "    </tr>\n",
              "    <tr>\n",
              "      <th>max</th>\n",
              "      <td>59.340330</td>\n",
              "    </tr>\n",
              "  </tbody>\n",
              "</table>\n",
              "</div>\n",
              "      <button class=\"colab-df-convert\" onclick=\"convertToInteractive('df-9fc4f655-972e-4659-8cff-077fb0bb3daf')\"\n",
              "              title=\"Convert this dataframe to an interactive table.\"\n",
              "              style=\"display:none;\">\n",
              "        \n",
              "  <svg xmlns=\"http://www.w3.org/2000/svg\" height=\"24px\"viewBox=\"0 0 24 24\"\n",
              "       width=\"24px\">\n",
              "    <path d=\"M0 0h24v24H0V0z\" fill=\"none\"/>\n",
              "    <path d=\"M18.56 5.44l.94 2.06.94-2.06 2.06-.94-2.06-.94-.94-2.06-.94 2.06-2.06.94zm-11 1L8.5 8.5l.94-2.06 2.06-.94-2.06-.94L8.5 2.5l-.94 2.06-2.06.94zm10 10l.94 2.06.94-2.06 2.06-.94-2.06-.94-.94-2.06-.94 2.06-2.06.94z\"/><path d=\"M17.41 7.96l-1.37-1.37c-.4-.4-.92-.59-1.43-.59-.52 0-1.04.2-1.43.59L10.3 9.45l-7.72 7.72c-.78.78-.78 2.05 0 2.83L4 21.41c.39.39.9.59 1.41.59.51 0 1.02-.2 1.41-.59l7.78-7.78 2.81-2.81c.8-.78.8-2.07 0-2.86zM5.41 20L4 18.59l7.72-7.72 1.47 1.35L5.41 20z\"/>\n",
              "  </svg>\n",
              "      </button>\n",
              "      \n",
              "  <style>\n",
              "    .colab-df-container {\n",
              "      display:flex;\n",
              "      flex-wrap:wrap;\n",
              "      gap: 12px;\n",
              "    }\n",
              "\n",
              "    .colab-df-convert {\n",
              "      background-color: #E8F0FE;\n",
              "      border: none;\n",
              "      border-radius: 50%;\n",
              "      cursor: pointer;\n",
              "      display: none;\n",
              "      fill: #1967D2;\n",
              "      height: 32px;\n",
              "      padding: 0 0 0 0;\n",
              "      width: 32px;\n",
              "    }\n",
              "\n",
              "    .colab-df-convert:hover {\n",
              "      background-color: #E2EBFA;\n",
              "      box-shadow: 0px 1px 2px rgba(60, 64, 67, 0.3), 0px 1px 3px 1px rgba(60, 64, 67, 0.15);\n",
              "      fill: #174EA6;\n",
              "    }\n",
              "\n",
              "    [theme=dark] .colab-df-convert {\n",
              "      background-color: #3B4455;\n",
              "      fill: #D2E3FC;\n",
              "    }\n",
              "\n",
              "    [theme=dark] .colab-df-convert:hover {\n",
              "      background-color: #434B5C;\n",
              "      box-shadow: 0px 1px 3px 1px rgba(0, 0, 0, 0.15);\n",
              "      filter: drop-shadow(0px 1px 2px rgba(0, 0, 0, 0.3));\n",
              "      fill: #FFFFFF;\n",
              "    }\n",
              "  </style>\n",
              "\n",
              "      <script>\n",
              "        const buttonEl =\n",
              "          document.querySelector('#df-9fc4f655-972e-4659-8cff-077fb0bb3daf button.colab-df-convert');\n",
              "        buttonEl.style.display =\n",
              "          google.colab.kernel.accessAllowed ? 'block' : 'none';\n",
              "\n",
              "        async function convertToInteractive(key) {\n",
              "          const element = document.querySelector('#df-9fc4f655-972e-4659-8cff-077fb0bb3daf');\n",
              "          const dataTable =\n",
              "            await google.colab.kernel.invokeFunction('convertToInteractive',\n",
              "                                                     [key], {});\n",
              "          if (!dataTable) return;\n",
              "\n",
              "          const docLinkHtml = 'Like what you see? Visit the ' +\n",
              "            '<a target=\"_blank\" href=https://colab.research.google.com/notebooks/data_table.ipynb>data table notebook</a>'\n",
              "            + ' to learn more about interactive tables.';\n",
              "          element.innerHTML = '';\n",
              "          dataTable['output_type'] = 'display_data';\n",
              "          await google.colab.output.renderOutput(dataTable, element);\n",
              "          const docLink = document.createElement('div');\n",
              "          docLink.innerHTML = docLinkHtml;\n",
              "          element.appendChild(docLink);\n",
              "        }\n",
              "      </script>\n",
              "    </div>\n",
              "  </div>\n",
              "  "
            ]
          },
          "metadata": {},
          "execution_count": 5
        }
      ],
      "source": [
        "# Check the description of the data\n",
        "Energy.describe()"
      ]
    },
    {
      "cell_type": "code",
      "execution_count": null,
      "metadata": {
        "colab": {
          "base_uri": "https://localhost:8080/",
          "height": 265
        },
        "id": "eYTljFqn5PNM",
        "outputId": "5b91d4f8-86b9-4762-89e6-3021e45ab3d9"
      },
      "outputs": [
        {
          "output_type": "display_data",
          "data": {
            "text/plain": [
              "<Figure size 432x288 with 1 Axes>"
            ],
            "image/png": "[encoded data removed]"
          },
          "metadata": {
            "needs_background": "light"
          }
        }
      ],
      "source": [
        "plt.boxplot(Energy['building 41']) # Energy.loc[:,'building 12'] or Energy.iloc[:,0]\n",
        "plt.show()"
      ]
    },
    {
      "cell_type": "code",
      "execution_count": null,
      "metadata": {
        "colab": {
          "base_uri": "https://localhost:8080/",
          "height": 351
        },
        "id": "ZH7FQuu5z43z",
        "outputId": "23efdede-5ce2-4f11-aa94-cf26b6266fdf"
      },
      "outputs": [
        {
          "output_type": "stream",
          "name": "stderr",
          "text": [
            "/usr/local/lib/python3.8/dist-packages/seaborn/_decorators.py:36: FutureWarning: Pass the following variable as a keyword arg: x. From version 0.12, the only valid positional argument will be `data`, and passing other arguments without an explicit keyword will result in an error or misinterpretation.\n",
            "  warnings.warn(\n"
          ]
        },
        {
          "output_type": "execute_result",
          "data": {
            "text/plain": [
              "<matplotlib.axes._subplots.AxesSubplot at 0x7f878c602310>"
            ]
          },
          "metadata": {},
          "execution_count": 7
        },
        {
          "output_type": "display_data",
          "data": {
            "text/plain": [
              "<Figure size 432x288 with 1 Axes>"
            ],
            "image/png": "[encoded data removed]"
          },
          "metadata": {
            "needs_background": "light"
          }
        }
      ],
      "source": [
        "# visual representation of the data description\n",
        "import seaborn as sns\n",
        "sns.boxplot(Energy['building 41'])"
      ]
    },
    {
      "cell_type": "code",
      "execution_count": null,
      "metadata": {
        "colab": {
          "base_uri": "https://localhost:8080/",
          "height": 423
        },
        "id": "2EPKMNgsz7Q3",
        "outputId": "bf24a60f-b194-479d-d429-2cfb851b73f2"
      },
      "outputs": [
        {
          "output_type": "execute_result",
          "data": {
            "text/plain": [
              "                     Time  month  HH  TD   U  Temp    RH  Q  DR  FF  FX      P\n",
              "0     2016-01-01 01:00:00      1   1  38  82   6.6  0.82  0   0  30  70  10224\n",
              "1     2016-01-01 02:00:00      1   2  43  83   7.0  0.83  0   0  40  80  10228\n",
              "2     2016-01-01 03:00:00      1   3  46  91   5.9  0.91  0   0  30  80  10232\n",
              "3     2016-01-01 04:00:00      1   4  36  96   4.2  0.96  0   0  20  40  10237\n",
              "4     2016-01-01 05:00:00      1   5  37  98   4.0  0.98  0   0  20  30  10240\n",
              "...                   ...    ...  ..  ..  ..   ...   ... ..  ..  ..  ..    ...\n",
              "26298 2018-12-31 19:00:00     12  19  78  93   8.7  0.93  0   0  30  60  10341\n",
              "26299 2018-12-31 20:00:00     12  20  74  92   8.5  0.92  0   0  30  50  10338\n",
              "26300 2018-12-31 21:00:00     12  21  66  89   8.2  0.89  0   0  40  60  10336\n",
              "26301 2018-12-31 22:00:00     12  22  68  94   7.6  0.94  0   0  40  70  10332\n",
              "26302 2018-12-31 23:00:00     12  23  67  94   7.6  0.94  0   7  40  60  10333\n",
              "\n",
              "[26303 rows x 12 columns]"
            ],
            "text/html": [
              "\n",
              "  <div id=\"df-e66dc7e1-f5e0-4dcf-a451-7bd6a211f39b\">\n",
              "    <div class=\"colab-df-container\">\n",
              "      <div>\n",
              "<style scoped>\n",
              "    .dataframe tbody tr th:only-of-type {\n",
              "        vertical-align: middle;\n",
              "    }\n",
              "\n",
              "    .dataframe tbody tr th {\n",
              "        vertical-align: top;\n",
              "    }\n",
              "\n",
              "    .dataframe thead th {\n",
              "        text-align: right;\n",
              "    }\n",
              "</style>\n",
              "<table border=\"1\" class=\"dataframe\">\n",
              "  <thead>\n",
              "    <tr style=\"text-align: right;\">\n",
              "      <th></th>\n",
              "      <th>Time</th>\n",
              "      <th>month</th>\n",
              "      <th>HH</th>\n",
              "      <th>TD</th>\n",
              "      <th>U</th>\n",
              "      <th>Temp</th>\n",
              "      <th>RH</th>\n",
              "      <th>Q</th>\n",
              "      <th>DR</th>\n",
              "      <th>FF</th>\n",
              "      <th>FX</th>\n",
              "      <th>P</th>\n",
              "    </tr>\n",
              "  </thead>\n",
              "  <tbody>\n",
              "    <tr>\n",
              "      <th>0</th>\n",
              "      <td>2016-01-01 01:00:00</td>\n",
              "      <td>1</td>\n",
              "      <td>1</td>\n",
              "      <td>38</td>\n",
              "      <td>82</td>\n",
              "      <td>6.6</td>\n",
              "      <td>0.82</td>\n",
              "      <td>0</td>\n",
              "      <td>0</td>\n",
              "      <td>30</td>\n",
              "      <td>70</td>\n",
              "      <td>10224</td>\n",
              "    </tr>\n",
              "    <tr>\n",
              "      <th>1</th>\n",
              "      <td>2016-01-01 02:00:00</td>\n",
              "      <td>1</td>\n",
              "      <td>2</td>\n",
              "      <td>43</td>\n",
              "      <td>83</td>\n",
              "      <td>7.0</td>\n",
              "      <td>0.83</td>\n",
              "      <td>0</td>\n",
              "      <td>0</td>\n",
              "      <td>40</td>\n",
              "      <td>80</td>\n",
              "      <td>10228</td>\n",
              "    </tr>\n",
              "    <tr>\n",
              "      <th>2</th>\n",
              "      <td>2016-01-01 03:00:00</td>\n",
              "      <td>1</td>\n",
              "      <td>3</td>\n",
              "      <td>46</td>\n",
              "      <td>91</td>\n",
              "      <td>5.9</td>\n",
              "      <td>0.91</td>\n",
              "      <td>0</td>\n",
              "      <td>0</td>\n",
              "      <td>30</td>\n",
              "      <td>80</td>\n",
              "      <td>10232</td>\n",
              "    </tr>\n",
              "    <tr>\n",
              "      <th>3</th>\n",
              "      <td>2016-01-01 04:00:00</td>\n",
              "      <td>1</td>\n",
              "      <td>4</td>\n",
              "      <td>36</td>\n",
              "      <td>96</td>\n",
              "      <td>4.2</td>\n",
              "      <td>0.96</td>\n",
              "      <td>0</td>\n",
              "      <td>0</td>\n",
              "      <td>20</td>\n",
              "      <td>40</td>\n",
              "      <td>10237</td>\n",
              "    </tr>\n",
              "    <tr>\n",
              "      <th>4</th>\n",
              "      <td>2016-01-01 05:00:00</td>\n",
              "      <td>1</td>\n",
              "      <td>5</td>\n",
              "      <td>37</td>\n",
              "      <td>98</td>\n",
              "      <td>4.0</td>\n",
              "      <td>0.98</td>\n",
              "      <td>0</td>\n",
              "      <td>0</td>\n",
              "      <td>20</td>\n",
              "      <td>30</td>\n",
              "      <td>10240</td>\n",
              "    </tr>\n",
              "    <tr>\n",
              "      <th>...</th>\n",
              "      <td>...</td>\n",
              "      <td>...</td>\n",
              "      <td>...</td>\n",
              "      <td>...</td>\n",
              "      <td>...</td>\n",
              "      <td>...</td>\n",
              "      <td>...</td>\n",
              "      <td>...</td>\n",
              "      <td>...</td>\n",
              "      <td>...</td>\n",
              "      <td>...</td>\n",
              "      <td>...</td>\n",
              "    </tr>\n",
              "    <tr>\n",
              "      <th>26298</th>\n",
              "      <td>2018-12-31 19:00:00</td>\n",
              "      <td>12</td>\n",
              "      <td>19</td>\n",
              "      <td>78</td>\n",
              "      <td>93</td>\n",
              "      <td>8.7</td>\n",
              "      <td>0.93</td>\n",
              "      <td>0</td>\n",
              "      <td>0</td>\n",
              "      <td>30</td>\n",
              "      <td>60</td>\n",
              "      <td>10341</td>\n",
              "    </tr>\n",
              "    <tr>\n",
              "      <th>26299</th>\n",
              "      <td>2018-12-31 20:00:00</td>\n",
              "      <td>12</td>\n",
              "      <td>20</td>\n",
              "      <td>74</td>\n",
              "      <td>92</td>\n",
              "      <td>8.5</td>\n",
              "      <td>0.92</td>\n",
              "      <td>0</td>\n",
              "      <td>0</td>\n",
              "      <td>30</td>\n",
              "      <td>50</td>\n",
              "      <td>10338</td>\n",
              "    </tr>\n",
              "    <tr>\n",
              "      <th>26300</th>\n",
              "      <td>2018-12-31 21:00:00</td>\n",
              "      <td>12</td>\n",
              "      <td>21</td>\n",
              "      <td>66</td>\n",
              "      <td>89</td>\n",
              "      <td>8.2</td>\n",
              "      <td>0.89</td>\n",
              "      <td>0</td>\n",
              "      <td>0</td>\n",
              "      <td>40</td>\n",
              "      <td>60</td>\n",
              "      <td>10336</td>\n",
              "    </tr>\n",
              "    <tr>\n",
              "      <th>26301</th>\n",
              "      <td>2018-12-31 22:00:00</td>\n",
              "      <td>12</td>\n",
              "      <td>22</td>\n",
              "      <td>68</td>\n",
              "      <td>94</td>\n",
              "      <td>7.6</td>\n",
              "      <td>0.94</td>\n",
              "      <td>0</td>\n",
              "      <td>0</td>\n",
              "      <td>40</td>\n",
              "      <td>70</td>\n",
              "      <td>10332</td>\n",
              "    </tr>\n",
              "    <tr>\n",
              "      <th>26302</th>\n",
              "      <td>2018-12-31 23:00:00</td>\n",
              "      <td>12</td>\n",
              "      <td>23</td>\n",
              "      <td>67</td>\n",
              "      <td>94</td>\n",
              "      <td>7.6</td>\n",
              "      <td>0.94</td>\n",
              "      <td>0</td>\n",
              "      <td>7</td>\n",
              "      <td>40</td>\n",
              "      <td>60</td>\n",
              "      <td>10333</td>\n",
              "    </tr>\n",
              "  </tbody>\n",
              "</table>\n",
              "<p>26303 rows × 12 columns</p>\n",
              "</div>\n",
              "      <button class=\"colab-df-convert\" onclick=\"convertToInteractive('df-e66dc7e1-f5e0-4dcf-a451-7bd6a211f39b')\"\n",
              "              title=\"Convert this dataframe to an interactive table.\"\n",
              "              style=\"display:none;\">\n",
              "        \n",
              "  <svg xmlns=\"http://www.w3.org/2000/svg\" height=\"24px\"viewBox=\"0 0 24 24\"\n",
              "       width=\"24px\">\n",
              "    <path d=\"M0 0h24v24H0V0z\" fill=\"none\"/>\n",
              "    <path d=\"M18.56 5.44l.94 2.06.94-2.06 2.06-.94-2.06-.94-.94-2.06-.94 2.06-2.06.94zm-11 1L8.5 8.5l.94-2.06 2.06-.94-2.06-.94L8.5 2.5l-.94 2.06-2.06.94zm10 10l.94 2.06.94-2.06 2.06-.94-2.06-.94-.94-2.06-.94 2.06-2.06.94z\"/><path d=\"M17.41 7.96l-1.37-1.37c-.4-.4-.92-.59-1.43-.59-.52 0-1.04.2-1.43.59L10.3 9.45l-7.72 7.72c-.78.78-.78 2.05 0 2.83L4 21.41c.39.39.9.59 1.41.59.51 0 1.02-.2 1.41-.59l7.78-7.78 2.81-2.81c.8-.78.8-2.07 0-2.86zM5.41 20L4 18.59l7.72-7.72 1.47 1.35L5.41 20z\"/>\n",
              "  </svg>\n",
              "      </button>\n",
              "      \n",
              "  <style>\n",
              "    .colab-df-container {\n",
              "      display:flex;\n",
              "      flex-wrap:wrap;\n",
              "      gap: 12px;\n",
              "    }\n",
              "\n",
              "    .colab-df-convert {\n",
              "      background-color: #E8F0FE;\n",
              "      border: none;\n",
              "      border-radius: 50%;\n",
              "      cursor: pointer;\n",
              "      display: none;\n",
              "      fill: #1967D2;\n",
              "      height: 32px;\n",
              "      padding: 0 0 0 0;\n",
              "      width: 32px;\n",
              "    }\n",
              "\n",
              "    .colab-df-convert:hover {\n",
              "      background-color: #E2EBFA;\n",
              "      box-shadow: 0px 1px 2px rgba(60, 64, 67, 0.3), 0px 1px 3px 1px rgba(60, 64, 67, 0.15);\n",
              "      fill: #174EA6;\n",
              "    }\n",
              "\n",
              "    [theme=dark] .colab-df-convert {\n",
              "      background-color: #3B4455;\n",
              "      fill: #D2E3FC;\n",
              "    }\n",
              "\n",
              "    [theme=dark] .colab-df-convert:hover {\n",
              "      background-color: #434B5C;\n",
              "      box-shadow: 0px 1px 3px 1px rgba(0, 0, 0, 0.15);\n",
              "      filter: drop-shadow(0px 1px 2px rgba(0, 0, 0, 0.3));\n",
              "      fill: #FFFFFF;\n",
              "    }\n",
              "  </style>\n",
              "\n",
              "      <script>\n",
              "        const buttonEl =\n",
              "          document.querySelector('#df-e66dc7e1-f5e0-4dcf-a451-7bd6a211f39b button.colab-df-convert');\n",
              "        buttonEl.style.display =\n",
              "          google.colab.kernel.accessAllowed ? 'block' : 'none';\n",
              "\n",
              "        async function convertToInteractive(key) {\n",
              "          const element = document.querySelector('#df-e66dc7e1-f5e0-4dcf-a451-7bd6a211f39b');\n",
              "          const dataTable =\n",
              "            await google.colab.kernel.invokeFunction('convertToInteractive',\n",
              "                                                     [key], {});\n",
              "          if (!dataTable) return;\n",
              "\n",
              "          const docLinkHtml = 'Like what you see? Visit the ' +\n",
              "            '<a target=\"_blank\" href=https://colab.research.google.com/notebooks/data_table.ipynb>data table notebook</a>'\n",
              "            + ' to learn more about interactive tables.';\n",
              "          element.innerHTML = '';\n",
              "          dataTable['output_type'] = 'display_data';\n",
              "          await google.colab.output.renderOutput(dataTable, element);\n",
              "          const docLink = document.createElement('div');\n",
              "          docLink.innerHTML = docLinkHtml;\n",
              "          element.appendChild(docLink);\n",
              "        }\n",
              "      </script>\n",
              "    </div>\n",
              "  </div>\n",
              "  "
            ]
          },
          "metadata": {},
          "execution_count": 8
        }
      ],
      "source": [
        "#Load the Weather data from the excel file\n",
        "Path= \"/content/drive/MyDrive/Dataset/WeatherData.xlsx\"\n",
        "knmi= pd.read_excel(Path)\n",
        "knmi"
      ]
    },
    {
      "cell_type": "code",
      "execution_count": null,
      "metadata": {
        "colab": {
          "base_uri": "https://localhost:8080/",
          "height": 455
        },
        "id": "sTZfLGTUz8ZP",
        "outputId": "3e6e398e-2e07-4300-b518-e15ae620213d"
      },
      "outputs": [
        {
          "output_type": "execute_result",
          "data": {
            "text/plain": [
              "                     month  HH  TD   U  Temp    RH  Q  DR  FF  FX      P\n",
              "Time                                                                    \n",
              "2016-01-01 01:00:00      1   1  38  82   6.6  0.82  0   0  30  70  10224\n",
              "2016-01-01 02:00:00      1   2  43  83   7.0  0.83  0   0  40  80  10228\n",
              "2016-01-01 03:00:00      1   3  46  91   5.9  0.91  0   0  30  80  10232\n",
              "2016-01-01 04:00:00      1   4  36  96   4.2  0.96  0   0  20  40  10237\n",
              "2016-01-01 05:00:00      1   5  37  98   4.0  0.98  0   0  20  30  10240\n",
              "...                    ...  ..  ..  ..   ...   ... ..  ..  ..  ..    ...\n",
              "2018-12-31 19:00:00     12  19  78  93   8.7  0.93  0   0  30  60  10341\n",
              "2018-12-31 20:00:00     12  20  74  92   8.5  0.92  0   0  30  50  10338\n",
              "2018-12-31 21:00:00     12  21  66  89   8.2  0.89  0   0  40  60  10336\n",
              "2018-12-31 22:00:00     12  22  68  94   7.6  0.94  0   0  40  70  10332\n",
              "2018-12-31 23:00:00     12  23  67  94   7.6  0.94  0   7  40  60  10333\n",
              "\n",
              "[26303 rows x 11 columns]"
            ],
            "text/html": [
              "\n",
              "  <div id=\"df-e8d053d7-e9b7-4d1f-88dc-30c57e5c057b\">\n",
              "    <div class=\"colab-df-container\">\n",
              "      <div>\n",
              "<style scoped>\n",
              "    .dataframe tbody tr th:only-of-type {\n",
              "        vertical-align: middle;\n",
              "    }\n",
              "\n",
              "    .dataframe tbody tr th {\n",
              "        vertical-align: top;\n",
              "    }\n",
              "\n",
              "    .dataframe thead th {\n",
              "        text-align: right;\n",
              "    }\n",
              "</style>\n",
              "<table border=\"1\" class=\"dataframe\">\n",
              "  <thead>\n",
              "    <tr style=\"text-align: right;\">\n",
              "      <th></th>\n",
              "      <th>month</th>\n",
              "      <th>HH</th>\n",
              "      <th>TD</th>\n",
              "      <th>U</th>\n",
              "      <th>Temp</th>\n",
              "      <th>RH</th>\n",
              "      <th>Q</th>\n",
              "      <th>DR</th>\n",
              "      <th>FF</th>\n",
              "      <th>FX</th>\n",
              "      <th>P</th>\n",
              "    </tr>\n",
              "    <tr>\n",
              "      <th>Time</th>\n",
              "      <th></th>\n",
              "      <th></th>\n",
              "      <th></th>\n",
              "      <th></th>\n",
              "      <th></th>\n",
              "      <th></th>\n",
              "      <th></th>\n",
              "      <th></th>\n",
              "      <th></th>\n",
              "      <th></th>\n",
              "      <th></th>\n",
              "    </tr>\n",
              "  </thead>\n",
              "  <tbody>\n",
              "    <tr>\n",
              "      <th>2016-01-01 01:00:00</th>\n",
              "      <td>1</td>\n",
              "      <td>1</td>\n",
              "      <td>38</td>\n",
              "      <td>82</td>\n",
              "      <td>6.6</td>\n",
              "      <td>0.82</td>\n",
              "      <td>0</td>\n",
              "      <td>0</td>\n",
              "      <td>30</td>\n",
              "      <td>70</td>\n",
              "      <td>10224</td>\n",
              "    </tr>\n",
              "    <tr>\n",
              "      <th>2016-01-01 02:00:00</th>\n",
              "      <td>1</td>\n",
              "      <td>2</td>\n",
              "      <td>43</td>\n",
              "      <td>83</td>\n",
              "      <td>7.0</td>\n",
              "      <td>0.83</td>\n",
              "      <td>0</td>\n",
              "      <td>0</td>\n",
              "      <td>40</td>\n",
              "      <td>80</td>\n",
              "      <td>10228</td>\n",
              "    </tr>\n",
              "    <tr>\n",
              "      <th>2016-01-01 03:00:00</th>\n",
              "      <td>1</td>\n",
              "      <td>3</td>\n",
              "      <td>46</td>\n",
              "      <td>91</td>\n",
              "      <td>5.9</td>\n",
              "      <td>0.91</td>\n",
              "      <td>0</td>\n",
              "      <td>0</td>\n",
              "      <td>30</td>\n",
              "      <td>80</td>\n",
              "      <td>10232</td>\n",
              "    </tr>\n",
              "    <tr>\n",
              "      <th>2016-01-01 04:00:00</th>\n",
              "      <td>1</td>\n",
              "      <td>4</td>\n",
              "      <td>36</td>\n",
              "      <td>96</td>\n",
              "      <td>4.2</td>\n",
              "      <td>0.96</td>\n",
              "      <td>0</td>\n",
              "      <td>0</td>\n",
              "      <td>20</td>\n",
              "      <td>40</td>\n",
              "      <td>10237</td>\n",
              "    </tr>\n",
              "    <tr>\n",
              "      <th>2016-01-01 05:00:00</th>\n",
              "      <td>1</td>\n",
              "      <td>5</td>\n",
              "      <td>37</td>\n",
              "      <td>98</td>\n",
              "      <td>4.0</td>\n",
              "      <td>0.98</td>\n",
              "      <td>0</td>\n",
              "      <td>0</td>\n",
              "      <td>20</td>\n",
              "      <td>30</td>\n",
              "      <td>10240</td>\n",
              "    </tr>\n",
              "    <tr>\n",
              "      <th>...</th>\n",
              "      <td>...</td>\n",
              "      <td>...</td>\n",
              "      <td>...</td>\n",
              "      <td>...</td>\n",
              "      <td>...</td>\n",
              "      <td>...</td>\n",
              "      <td>...</td>\n",
              "      <td>...</td>\n",
              "      <td>...</td>\n",
              "      <td>...</td>\n",
              "      <td>...</td>\n",
              "    </tr>\n",
              "    <tr>\n",
              "      <th>2018-12-31 19:00:00</th>\n",
              "      <td>12</td>\n",
              "      <td>19</td>\n",
              "      <td>78</td>\n",
              "      <td>93</td>\n",
              "      <td>8.7</td>\n",
              "      <td>0.93</td>\n",
              "      <td>0</td>\n",
              "      <td>0</td>\n",
              "      <td>30</td>\n",
              "      <td>60</td>\n",
              "      <td>10341</td>\n",
              "    </tr>\n",
              "    <tr>\n",
              "      <th>2018-12-31 20:00:00</th>\n",
              "      <td>12</td>\n",
              "      <td>20</td>\n",
              "      <td>74</td>\n",
              "      <td>92</td>\n",
              "      <td>8.5</td>\n",
              "      <td>0.92</td>\n",
              "      <td>0</td>\n",
              "      <td>0</td>\n",
              "      <td>30</td>\n",
              "      <td>50</td>\n",
              "      <td>10338</td>\n",
              "    </tr>\n",
              "    <tr>\n",
              "      <th>2018-12-31 21:00:00</th>\n",
              "      <td>12</td>\n",
              "      <td>21</td>\n",
              "      <td>66</td>\n",
              "      <td>89</td>\n",
              "      <td>8.2</td>\n",
              "      <td>0.89</td>\n",
              "      <td>0</td>\n",
              "      <td>0</td>\n",
              "      <td>40</td>\n",
              "      <td>60</td>\n",
              "      <td>10336</td>\n",
              "    </tr>\n",
              "    <tr>\n",
              "      <th>2018-12-31 22:00:00</th>\n",
              "      <td>12</td>\n",
              "      <td>22</td>\n",
              "      <td>68</td>\n",
              "      <td>94</td>\n",
              "      <td>7.6</td>\n",
              "      <td>0.94</td>\n",
              "      <td>0</td>\n",
              "      <td>0</td>\n",
              "      <td>40</td>\n",
              "      <td>70</td>\n",
              "      <td>10332</td>\n",
              "    </tr>\n",
              "    <tr>\n",
              "      <th>2018-12-31 23:00:00</th>\n",
              "      <td>12</td>\n",
              "      <td>23</td>\n",
              "      <td>67</td>\n",
              "      <td>94</td>\n",
              "      <td>7.6</td>\n",
              "      <td>0.94</td>\n",
              "      <td>0</td>\n",
              "      <td>7</td>\n",
              "      <td>40</td>\n",
              "      <td>60</td>\n",
              "      <td>10333</td>\n",
              "    </tr>\n",
              "  </tbody>\n",
              "</table>\n",
              "<p>26303 rows × 11 columns</p>\n",
              "</div>\n",
              "      <button class=\"colab-df-convert\" onclick=\"convertToInteractive('df-e8d053d7-e9b7-4d1f-88dc-30c57e5c057b')\"\n",
              "              title=\"Convert this dataframe to an interactive table.\"\n",
              "              style=\"display:none;\">\n",
              "        \n",
              "  <svg xmlns=\"http://www.w3.org/2000/svg\" height=\"24px\"viewBox=\"0 0 24 24\"\n",
              "       width=\"24px\">\n",
              "    <path d=\"M0 0h24v24H0V0z\" fill=\"none\"/>\n",
              "    <path d=\"M18.56 5.44l.94 2.06.94-2.06 2.06-.94-2.06-.94-.94-2.06-.94 2.06-2.06.94zm-11 1L8.5 8.5l.94-2.06 2.06-.94-2.06-.94L8.5 2.5l-.94 2.06-2.06.94zm10 10l.94 2.06.94-2.06 2.06-.94-2.06-.94-.94-2.06-.94 2.06-2.06.94z\"/><path d=\"M17.41 7.96l-1.37-1.37c-.4-.4-.92-.59-1.43-.59-.52 0-1.04.2-1.43.59L10.3 9.45l-7.72 7.72c-.78.78-.78 2.05 0 2.83L4 21.41c.39.39.9.59 1.41.59.51 0 1.02-.2 1.41-.59l7.78-7.78 2.81-2.81c.8-.78.8-2.07 0-2.86zM5.41 20L4 18.59l7.72-7.72 1.47 1.35L5.41 20z\"/>\n",
              "  </svg>\n",
              "      </button>\n",
              "      \n",
              "  <style>\n",
              "    .colab-df-container {\n",
              "      display:flex;\n",
              "      flex-wrap:wrap;\n",
              "      gap: 12px;\n",
              "    }\n",
              "\n",
              "    .colab-df-convert {\n",
              "      background-color: #E8F0FE;\n",
              "      border: none;\n",
              "      border-radius: 50%;\n",
              "      cursor: pointer;\n",
              "      display: none;\n",
              "      fill: #1967D2;\n",
              "      height: 32px;\n",
              "      padding: 0 0 0 0;\n",
              "      width: 32px;\n",
              "    }\n",
              "\n",
              "    .colab-df-convert:hover {\n",
              "      background-color: #E2EBFA;\n",
              "      box-shadow: 0px 1px 2px rgba(60, 64, 67, 0.3), 0px 1px 3px 1px rgba(60, 64, 67, 0.15);\n",
              "      fill: #174EA6;\n",
              "    }\n",
              "\n",
              "    [theme=dark] .colab-df-convert {\n",
              "      background-color: #3B4455;\n",
              "      fill: #D2E3FC;\n",
              "    }\n",
              "\n",
              "    [theme=dark] .colab-df-convert:hover {\n",
              "      background-color: #434B5C;\n",
              "      box-shadow: 0px 1px 3px 1px rgba(0, 0, 0, 0.15);\n",
              "      filter: drop-shadow(0px 1px 2px rgba(0, 0, 0, 0.3));\n",
              "      fill: #FFFFFF;\n",
              "    }\n",
              "  </style>\n",
              "\n",
              "      <script>\n",
              "        const buttonEl =\n",
              "          document.querySelector('#df-e8d053d7-e9b7-4d1f-88dc-30c57e5c057b button.colab-df-convert');\n",
              "        buttonEl.style.display =\n",
              "          google.colab.kernel.accessAllowed ? 'block' : 'none';\n",
              "\n",
              "        async function convertToInteractive(key) {\n",
              "          const element = document.querySelector('#df-e8d053d7-e9b7-4d1f-88dc-30c57e5c057b');\n",
              "          const dataTable =\n",
              "            await google.colab.kernel.invokeFunction('convertToInteractive',\n",
              "                                                     [key], {});\n",
              "          if (!dataTable) return;\n",
              "\n",
              "          const docLinkHtml = 'Like what you see? Visit the ' +\n",
              "            '<a target=\"_blank\" href=https://colab.research.google.com/notebooks/data_table.ipynb>data table notebook</a>'\n",
              "            + ' to learn more about interactive tables.';\n",
              "          element.innerHTML = '';\n",
              "          dataTable['output_type'] = 'display_data';\n",
              "          await google.colab.output.renderOutput(dataTable, element);\n",
              "          const docLink = document.createElement('div');\n",
              "          docLink.innerHTML = docLinkHtml;\n",
              "          element.appendChild(docLink);\n",
              "        }\n",
              "      </script>\n",
              "    </div>\n",
              "  </div>\n",
              "  "
            ]
          },
          "metadata": {},
          "execution_count": 9
        }
      ],
      "source": [
        "#Set the Time column as index\n",
        "knmi = knmi.set_index(\"Time\")\n",
        "knmi"
      ]
    },
    {
      "cell_type": "code",
      "execution_count": null,
      "metadata": {
        "colab": {
          "base_uri": "https://localhost:8080/",
          "height": 455
        },
        "id": "Ft7WzZKV0BgP",
        "outputId": "74e91029-bc27-4bde-d48a-4e7e444a00ff"
      },
      "outputs": [
        {
          "output_type": "execute_result",
          "data": {
            "text/plain": [
              "                     month  HH  TD   U  Temp    RH  Q  DR  FF  FX      P  \\\n",
              "Time                                                                       \n",
              "2016-01-01 01:00:00      1   1  38  82   6.6  0.82  0   0  30  70  10224   \n",
              "2016-01-01 02:00:00      1   2  43  83   7.0  0.83  0   0  40  80  10228   \n",
              "2016-01-01 03:00:00      1   3  46  91   5.9  0.91  0   0  30  80  10232   \n",
              "2016-01-01 04:00:00      1   4  36  96   4.2  0.96  0   0  20  40  10237   \n",
              "2016-01-01 05:00:00      1   5  37  98   4.0  0.98  0   0  20  30  10240   \n",
              "...                    ...  ..  ..  ..   ...   ... ..  ..  ..  ..    ...   \n",
              "2018-12-31 19:00:00     12  19  78  93   8.7  0.93  0   0  30  60  10341   \n",
              "2018-12-31 20:00:00     12  20  74  92   8.5  0.92  0   0  30  50  10338   \n",
              "2018-12-31 21:00:00     12  21  66  89   8.2  0.89  0   0  40  60  10336   \n",
              "2018-12-31 22:00:00     12  22  68  94   7.6  0.94  0   0  40  70  10332   \n",
              "2018-12-31 23:00:00     12  23  67  94   7.6  0.94  0   7  40  60  10333   \n",
              "\n",
              "                     building 41  \n",
              "Time                              \n",
              "2016-01-01 01:00:00    23.783228  \n",
              "2016-01-01 02:00:00    23.783228  \n",
              "2016-01-01 03:00:00    23.783228  \n",
              "2016-01-01 04:00:00    23.783228  \n",
              "2016-01-01 05:00:00    23.783228  \n",
              "...                          ...  \n",
              "2018-12-31 19:00:00    18.602723  \n",
              "2018-12-31 20:00:00    18.838200  \n",
              "2018-12-31 21:00:00    18.602723  \n",
              "2018-12-31 22:00:00    18.131768  \n",
              "2018-12-31 23:00:00    18.602723  \n",
              "\n",
              "[26303 rows x 12 columns]"
            ],
            "text/html": [
              "\n",
              "  <div id=\"df-ffb5f9db-6f7f-483c-9d82-731b3c45246a\">\n",
              "    <div class=\"colab-df-container\">\n",
              "      <div>\n",
              "<style scoped>\n",
              "    .dataframe tbody tr th:only-of-type {\n",
              "        vertical-align: middle;\n",
              "    }\n",
              "\n",
              "    .dataframe tbody tr th {\n",
              "        vertical-align: top;\n",
              "    }\n",
              "\n",
              "    .dataframe thead th {\n",
              "        text-align: right;\n",
              "    }\n",
              "</style>\n",
              "<table border=\"1\" class=\"dataframe\">\n",
              "  <thead>\n",
              "    <tr style=\"text-align: right;\">\n",
              "      <th></th>\n",
              "      <th>month</th>\n",
              "      <th>HH</th>\n",
              "      <th>TD</th>\n",
              "      <th>U</th>\n",
              "      <th>Temp</th>\n",
              "      <th>RH</th>\n",
              "      <th>Q</th>\n",
              "      <th>DR</th>\n",
              "      <th>FF</th>\n",
              "      <th>FX</th>\n",
              "      <th>P</th>\n",
              "      <th>building 41</th>\n",
              "    </tr>\n",
              "    <tr>\n",
              "      <th>Time</th>\n",
              "      <th></th>\n",
              "      <th></th>\n",
              "      <th></th>\n",
              "      <th></th>\n",
              "      <th></th>\n",
              "      <th></th>\n",
              "      <th></th>\n",
              "      <th></th>\n",
              "      <th></th>\n",
              "      <th></th>\n",
              "      <th></th>\n",
              "      <th></th>\n",
              "    </tr>\n",
              "  </thead>\n",
              "  <tbody>\n",
              "    <tr>\n",
              "      <th>2016-01-01 01:00:00</th>\n",
              "      <td>1</td>\n",
              "      <td>1</td>\n",
              "      <td>38</td>\n",
              "      <td>82</td>\n",
              "      <td>6.6</td>\n",
              "      <td>0.82</td>\n",
              "      <td>0</td>\n",
              "      <td>0</td>\n",
              "      <td>30</td>\n",
              "      <td>70</td>\n",
              "      <td>10224</td>\n",
              "      <td>23.783228</td>\n",
              "    </tr>\n",
              "    <tr>\n",
              "      <th>2016-01-01 02:00:00</th>\n",
              "      <td>1</td>\n",
              "      <td>2</td>\n",
              "      <td>43</td>\n",
              "      <td>83</td>\n",
              "      <td>7.0</td>\n",
              "      <td>0.83</td>\n",
              "      <td>0</td>\n",
              "      <td>0</td>\n",
              "      <td>40</td>\n",
              "      <td>80</td>\n",
              "      <td>10228</td>\n",
              "      <td>23.783228</td>\n",
              "    </tr>\n",
              "    <tr>\n",
              "      <th>2016-01-01 03:00:00</th>\n",
              "      <td>1</td>\n",
              "      <td>3</td>\n",
              "      <td>46</td>\n",
              "      <td>91</td>\n",
              "      <td>5.9</td>\n",
              "      <td>0.91</td>\n",
              "      <td>0</td>\n",
              "      <td>0</td>\n",
              "      <td>30</td>\n",
              "      <td>80</td>\n",
              "      <td>10232</td>\n",
              "      <td>23.783228</td>\n",
              "    </tr>\n",
              "    <tr>\n",
              "      <th>2016-01-01 04:00:00</th>\n",
              "      <td>1</td>\n",
              "      <td>4</td>\n",
              "      <td>36</td>\n",
              "      <td>96</td>\n",
              "      <td>4.2</td>\n",
              "      <td>0.96</td>\n",
              "      <td>0</td>\n",
              "      <td>0</td>\n",
              "      <td>20</td>\n",
              "      <td>40</td>\n",
              "      <td>10237</td>\n",
              "      <td>23.783228</td>\n",
              "    </tr>\n",
              "    <tr>\n",
              "      <th>2016-01-01 05:00:00</th>\n",
              "      <td>1</td>\n",
              "      <td>5</td>\n",
              "      <td>37</td>\n",
              "      <td>98</td>\n",
              "      <td>4.0</td>\n",
              "      <td>0.98</td>\n",
              "      <td>0</td>\n",
              "      <td>0</td>\n",
              "      <td>20</td>\n",
              "      <td>30</td>\n",
              "      <td>10240</td>\n",
              "      <td>23.783228</td>\n",
              "    </tr>\n",
              "    <tr>\n",
              "      <th>...</th>\n",
              "      <td>...</td>\n",
              "      <td>...</td>\n",
              "      <td>...</td>\n",
              "      <td>...</td>\n",
              "      <td>...</td>\n",
              "      <td>...</td>\n",
              "      <td>...</td>\n",
              "      <td>...</td>\n",
              "      <td>...</td>\n",
              "      <td>...</td>\n",
              "      <td>...</td>\n",
              "      <td>...</td>\n",
              "    </tr>\n",
              "    <tr>\n",
              "      <th>2018-12-31 19:00:00</th>\n",
              "      <td>12</td>\n",
              "      <td>19</td>\n",
              "      <td>78</td>\n",
              "      <td>93</td>\n",
              "      <td>8.7</td>\n",
              "      <td>0.93</td>\n",
              "      <td>0</td>\n",
              "      <td>0</td>\n",
              "      <td>30</td>\n",
              "      <td>60</td>\n",
              "      <td>10341</td>\n",
              "      <td>18.602723</td>\n",
              "    </tr>\n",
              "    <tr>\n",
              "      <th>2018-12-31 20:00:00</th>\n",
              "      <td>12</td>\n",
              "      <td>20</td>\n",
              "      <td>74</td>\n",
              "      <td>92</td>\n",
              "      <td>8.5</td>\n",
              "      <td>0.92</td>\n",
              "      <td>0</td>\n",
              "      <td>0</td>\n",
              "      <td>30</td>\n",
              "      <td>50</td>\n",
              "      <td>10338</td>\n",
              "      <td>18.838200</td>\n",
              "    </tr>\n",
              "    <tr>\n",
              "      <th>2018-12-31 21:00:00</th>\n",
              "      <td>12</td>\n",
              "      <td>21</td>\n",
              "      <td>66</td>\n",
              "      <td>89</td>\n",
              "      <td>8.2</td>\n",
              "      <td>0.89</td>\n",
              "      <td>0</td>\n",
              "      <td>0</td>\n",
              "      <td>40</td>\n",
              "      <td>60</td>\n",
              "      <td>10336</td>\n",
              "      <td>18.602723</td>\n",
              "    </tr>\n",
              "    <tr>\n",
              "      <th>2018-12-31 22:00:00</th>\n",
              "      <td>12</td>\n",
              "      <td>22</td>\n",
              "      <td>68</td>\n",
              "      <td>94</td>\n",
              "      <td>7.6</td>\n",
              "      <td>0.94</td>\n",
              "      <td>0</td>\n",
              "      <td>0</td>\n",
              "      <td>40</td>\n",
              "      <td>70</td>\n",
              "      <td>10332</td>\n",
              "      <td>18.131768</td>\n",
              "    </tr>\n",
              "    <tr>\n",
              "      <th>2018-12-31 23:00:00</th>\n",
              "      <td>12</td>\n",
              "      <td>23</td>\n",
              "      <td>67</td>\n",
              "      <td>94</td>\n",
              "      <td>7.6</td>\n",
              "      <td>0.94</td>\n",
              "      <td>0</td>\n",
              "      <td>7</td>\n",
              "      <td>40</td>\n",
              "      <td>60</td>\n",
              "      <td>10333</td>\n",
              "      <td>18.602723</td>\n",
              "    </tr>\n",
              "  </tbody>\n",
              "</table>\n",
              "<p>26303 rows × 12 columns</p>\n",
              "</div>\n",
              "      <button class=\"colab-df-convert\" onclick=\"convertToInteractive('df-ffb5f9db-6f7f-483c-9d82-731b3c45246a')\"\n",
              "              title=\"Convert this dataframe to an interactive table.\"\n",
              "              style=\"display:none;\">\n",
              "        \n",
              "  <svg xmlns=\"http://www.w3.org/2000/svg\" height=\"24px\"viewBox=\"0 0 24 24\"\n",
              "       width=\"24px\">\n",
              "    <path d=\"M0 0h24v24H0V0z\" fill=\"none\"/>\n",
              "    <path d=\"M18.56 5.44l.94 2.06.94-2.06 2.06-.94-2.06-.94-.94-2.06-.94 2.06-2.06.94zm-11 1L8.5 8.5l.94-2.06 2.06-.94-2.06-.94L8.5 2.5l-.94 2.06-2.06.94zm10 10l.94 2.06.94-2.06 2.06-.94-2.06-.94-.94-2.06-.94 2.06-2.06.94z\"/><path d=\"M17.41 7.96l-1.37-1.37c-.4-.4-.92-.59-1.43-.59-.52 0-1.04.2-1.43.59L10.3 9.45l-7.72 7.72c-.78.78-.78 2.05 0 2.83L4 21.41c.39.39.9.59 1.41.59.51 0 1.02-.2 1.41-.59l7.78-7.78 2.81-2.81c.8-.78.8-2.07 0-2.86zM5.41 20L4 18.59l7.72-7.72 1.47 1.35L5.41 20z\"/>\n",
              "  </svg>\n",
              "      </button>\n",
              "      \n",
              "  <style>\n",
              "    .colab-df-container {\n",
              "      display:flex;\n",
              "      flex-wrap:wrap;\n",
              "      gap: 12px;\n",
              "    }\n",
              "\n",
              "    .colab-df-convert {\n",
              "      background-color: #E8F0FE;\n",
              "      border: none;\n",
              "      border-radius: 50%;\n",
              "      cursor: pointer;\n",
              "      display: none;\n",
              "      fill: #1967D2;\n",
              "      height: 32px;\n",
              "      padding: 0 0 0 0;\n",
              "      width: 32px;\n",
              "    }\n",
              "\n",
              "    .colab-df-convert:hover {\n",
              "      background-color: #E2EBFA;\n",
              "      box-shadow: 0px 1px 2px rgba(60, 64, 67, 0.3), 0px 1px 3px 1px rgba(60, 64, 67, 0.15);\n",
              "      fill: #174EA6;\n",
              "    }\n",
              "\n",
              "    [theme=dark] .colab-df-convert {\n",
              "      background-color: #3B4455;\n",
              "      fill: #D2E3FC;\n",
              "    }\n",
              "\n",
              "    [theme=dark] .colab-df-convert:hover {\n",
              "      background-color: #434B5C;\n",
              "      box-shadow: 0px 1px 3px 1px rgba(0, 0, 0, 0.15);\n",
              "      filter: drop-shadow(0px 1px 2px rgba(0, 0, 0, 0.3));\n",
              "      fill: #FFFFFF;\n",
              "    }\n",
              "  </style>\n",
              "\n",
              "      <script>\n",
              "        const buttonEl =\n",
              "          document.querySelector('#df-ffb5f9db-6f7f-483c-9d82-731b3c45246a button.colab-df-convert');\n",
              "        buttonEl.style.display =\n",
              "          google.colab.kernel.accessAllowed ? 'block' : 'none';\n",
              "\n",
              "        async function convertToInteractive(key) {\n",
              "          const element = document.querySelector('#df-ffb5f9db-6f7f-483c-9d82-731b3c45246a');\n",
              "          const dataTable =\n",
              "            await google.colab.kernel.invokeFunction('convertToInteractive',\n",
              "                                                     [key], {});\n",
              "          if (!dataTable) return;\n",
              "\n",
              "          const docLinkHtml = 'Like what you see? Visit the ' +\n",
              "            '<a target=\"_blank\" href=https://colab.research.google.com/notebooks/data_table.ipynb>data table notebook</a>'\n",
              "            + ' to learn more about interactive tables.';\n",
              "          element.innerHTML = '';\n",
              "          dataTable['output_type'] = 'display_data';\n",
              "          await google.colab.output.renderOutput(dataTable, element);\n",
              "          const docLink = document.createElement('div');\n",
              "          docLink.innerHTML = docLinkHtml;\n",
              "          element.appendChild(docLink);\n",
              "        }\n",
              "      </script>\n",
              "    </div>\n",
              "  </div>\n",
              "  "
            ]
          },
          "metadata": {},
          "execution_count": 10
        }
      ],
      "source": [
        "#concatenating the datasets of weather data and electricity consumption\n",
        "df = pd.concat([knmi, Energy], axis=1) #axis =1 for considering the columns\n",
        "df"
      ]
    },
    {
      "cell_type": "code",
      "execution_count": null,
      "metadata": {
        "colab": {
          "base_uri": "https://localhost:8080/"
        },
        "id": "afJaM0FZ0BkB",
        "outputId": "ec8dc3d8-9dc8-49a6-fc42-63224add2a9b"
      },
      "outputs": [
        {
          "output_type": "execute_result",
          "data": {
            "text/plain": [
              "month          0\n",
              "HH             0\n",
              "TD             0\n",
              "U              0\n",
              "Temp           0\n",
              "RH             0\n",
              "Q              0\n",
              "DR             0\n",
              "FF             0\n",
              "FX             0\n",
              "P              0\n",
              "building 41    0\n",
              "dtype: int64"
            ]
          },
          "metadata": {},
          "execution_count": 11
        }
      ],
      "source": [
        "# check missing data status\n",
        "df.isna().sum()"
      ]
    },
    {
      "cell_type": "code",
      "execution_count": null,
      "metadata": {
        "colab": {
          "base_uri": "https://localhost:8080/",
          "height": 666
        },
        "id": "qNSDmVkx0Bm4",
        "outputId": "9a5c9446-8477-46dc-b729-939a0eb83d94"
      },
      "outputs": [
        {
          "output_type": "execute_result",
          "data": {
            "text/plain": [
              "<matplotlib.axes._subplots.AxesSubplot at 0x7f878c5a5d90>"
            ]
          },
          "metadata": {},
          "execution_count": 12
        },
        {
          "output_type": "display_data",
          "data": {
            "text/plain": [
              "<Figure size 1800x720 with 3 Axes>"
            ],
            "image/png": "[encoded data removed]"
          },
          "metadata": {
            "needs_background": "light"
          }
        }
      ],
      "source": [
        "# cross check the availability of the data with missingno library\n",
        "import missingno as msno\n",
        "msno.bar(df)"
      ]
    },
    {
      "cell_type": "code",
      "execution_count": null,
      "metadata": {
        "colab": {
          "base_uri": "https://localhost:8080/",
          "height": 413
        },
        "id": "amvAik4k0J8S",
        "outputId": "2a5f17d3-b975-4828-8f7c-5207e0845dd8"
      },
      "outputs": [
        {
          "output_type": "execute_result",
          "data": {
            "text/plain": [
              "(array([ 0.5,  1.5,  2.5,  3.5,  4.5,  5.5,  6.5,  7.5,  8.5,  9.5, 10.5,\n",
              "        11.5]), <a list of 12 Text major ticklabel objects>)"
            ]
          },
          "metadata": {},
          "execution_count": 13
        },
        {
          "output_type": "display_data",
          "data": {
            "text/plain": [
              "<Figure size 1152x432 with 2 Axes>"
            ],
            "image/png": "[encoded data removed]"
          },
          "metadata": {
            "needs_background": "light"
          }
        }
      ],
      "source": [
        "plt.figure(figsize = (16,6)) # Create matplotlib figure\n",
        "sns.heatmap(df.corr(), annot = True, linewidths=1, fmt=\".2g\", cmap= 'coolwarm') \n",
        "# fmt = .1e (scientific notation), .2f (2 decimal places), .3g(3 significant figures), .2%(percentage with 2 decimal places)\n",
        "plt.xticks(rotation='horizontal')"
      ]
    },
    {
      "cell_type": "code",
      "execution_count": null,
      "metadata": {
        "id": "Fk6zi8Ll2ki7"
      },
      "outputs": [],
      "source": [
        "# Resample the energy of the building over a week using the resmaple function and the mean  function. \n",
        "df_sum_weekly = df['building 41'].resample('W').mean()\n",
        "\n",
        "# Resample the temperature over a week. \n",
        "df_feature1= df[\"Temp\"].resample(\"W\").mean()\n",
        "\n",
        "# Resample the relative humidity over a week. \n",
        "df_feature2 = df[\"U\"].resample(\"W\").mean()"
      ]
    },
    {
      "cell_type": "code",
      "execution_count": null,
      "metadata": {
        "colab": {
          "base_uri": "https://localhost:8080/",
          "height": 496
        },
        "id": "i2amoKsw2rTH",
        "outputId": "0cede417-c9c5-4a88-ab49-9a47b5933997"
      },
      "outputs": [
        {
          "output_type": "display_data",
          "data": {
            "text/plain": [
              "<Figure size 1728x576 with 3 Axes>"
            ],
            "image/png": "[encoded data removed]"
          },
          "metadata": {
            "needs_background": "light"
          }
        }
      ],
      "source": [
        "# plot the result\n",
        "fig,ax = plt.subplots(figsize=(24,8))  # Create matplotlib figure\n",
        "ax.plot(df_sum_weekly.index, df_sum_weekly, color=\"red\",marker=\"o\")\n",
        "ax.set_ylabel(\"KWh\")\n",
        "ax.set_xlabel('Date')\n",
        "ax2 = ax.twinx() #Create a new Axes with an invisible x-axis and an independent y-axis positioned opposite to the original one (i.e. at right).\n",
        "ax3 = ax.twinx()\n",
        "ax2.plot(df_sum_weekly.index, df_feature1, color=\"blue\", marker=\"o\")\n",
        "ax2.set_ylabel(\"°C\")\n",
        "ax3.plot(df_sum_weekly.index, df_feature2, color=\"green\", marker=\"o\")\n",
        "ax3.set_ylabel(\"grams/cubic meter\")\n",
        "ax3.spines[\"right\"].set_position((\"axes\", 1.05))\n",
        "fig.legend([\"Resampled Weekly Energy Consumption\",\"Resampled Weekly Temperature\",\"Resampled Weekly Relative Humidity\"], loc='upper right')\n",
        "fig.show()"
      ]
    },
    {
      "cell_type": "code",
      "execution_count": null,
      "metadata": {
        "colab": {
          "base_uri": "https://localhost:8080/"
        },
        "id": "piUDa_VE2rYM",
        "outputId": "6ac144c6-8e21-41f2-a2c1-3df3f935da0b"
      },
      "outputs": [
        {
          "output_type": "stream",
          "name": "stdout",
          "text": [
            "Spearmans correlation between Energy and hour feature: 0.068\n",
            "Spearmans correlation between Energy and month feature: 0.077\n"
          ]
        }
      ],
      "source": [
        "# calculate the spearmans's correlation between two variables\n",
        "from scipy.stats import spearmanr\n",
        "\n",
        "#filter columns from dataframe\n",
        "energy = np.array(df[\"building 41\"]) \n",
        "hour = np.array(df[\"HH\"])\n",
        "month= np.array(df[\"month\"])\n",
        "\n",
        "# calculate spearman's correlation\n",
        "corr1, _ = spearmanr(energy, hour)\n",
        "corr2,_ = spearmanr(energy, month)\n",
        "print('Spearmans correlation between Energy and hour feature: %.3f' % corr1)\n",
        "print('Spearmans correlation between Energy and month feature: %.3f' % corr2)"
      ]
    },
    {
      "cell_type": "code",
      "execution_count": null,
      "metadata": {
        "colab": {
          "base_uri": "https://localhost:8080/",
          "height": 455
        },
        "id": "Yt6tOgBX2rZm",
        "outputId": "965d72ff-e5cc-4b23-9f99-0b43e283ca5c"
      },
      "outputs": [
        {
          "output_type": "execute_result",
          "data": {
            "text/plain": [
              "                     month  HH  Temp    RH  Q  FF      P\n",
              "Time                                                    \n",
              "2016-01-01 01:00:00      1   1   6.6  0.82  0  30  10224\n",
              "2016-01-01 02:00:00      1   2   7.0  0.83  0  40  10228\n",
              "2016-01-01 03:00:00      1   3   5.9  0.91  0  30  10232\n",
              "2016-01-01 04:00:00      1   4   4.2  0.96  0  20  10237\n",
              "2016-01-01 05:00:00      1   5   4.0  0.98  0  20  10240\n",
              "...                    ...  ..   ...   ... ..  ..    ...\n",
              "2018-12-31 19:00:00     12  19   8.7  0.93  0  30  10341\n",
              "2018-12-31 20:00:00     12  20   8.5  0.92  0  30  10338\n",
              "2018-12-31 21:00:00     12  21   8.2  0.89  0  40  10336\n",
              "2018-12-31 22:00:00     12  22   7.6  0.94  0  40  10332\n",
              "2018-12-31 23:00:00     12  23   7.6  0.94  0  40  10333\n",
              "\n",
              "[26303 rows x 7 columns]"
            ],
            "text/html": [
              "\n",
              "  <div id=\"df-c50bcf2d-19fb-4b48-a764-ffc9fe897060\">\n",
              "    <div class=\"colab-df-container\">\n",
              "      <div>\n",
              "<style scoped>\n",
              "    .dataframe tbody tr th:only-of-type {\n",
              "        vertical-align: middle;\n",
              "    }\n",
              "\n",
              "    .dataframe tbody tr th {\n",
              "        vertical-align: top;\n",
              "    }\n",
              "\n",
              "    .dataframe thead th {\n",
              "        text-align: right;\n",
              "    }\n",
              "</style>\n",
              "<table border=\"1\" class=\"dataframe\">\n",
              "  <thead>\n",
              "    <tr style=\"text-align: right;\">\n",
              "      <th></th>\n",
              "      <th>month</th>\n",
              "      <th>HH</th>\n",
              "      <th>Temp</th>\n",
              "      <th>RH</th>\n",
              "      <th>Q</th>\n",
              "      <th>FF</th>\n",
              "      <th>P</th>\n",
              "    </tr>\n",
              "    <tr>\n",
              "      <th>Time</th>\n",
              "      <th></th>\n",
              "      <th></th>\n",
              "      <th></th>\n",
              "      <th></th>\n",
              "      <th></th>\n",
              "      <th></th>\n",
              "      <th></th>\n",
              "    </tr>\n",
              "  </thead>\n",
              "  <tbody>\n",
              "    <tr>\n",
              "      <th>2016-01-01 01:00:00</th>\n",
              "      <td>1</td>\n",
              "      <td>1</td>\n",
              "      <td>6.6</td>\n",
              "      <td>0.82</td>\n",
              "      <td>0</td>\n",
              "      <td>30</td>\n",
              "      <td>10224</td>\n",
              "    </tr>\n",
              "    <tr>\n",
              "      <th>2016-01-01 02:00:00</th>\n",
              "      <td>1</td>\n",
              "      <td>2</td>\n",
              "      <td>7.0</td>\n",
              "      <td>0.83</td>\n",
              "      <td>0</td>\n",
              "      <td>40</td>\n",
              "      <td>10228</td>\n",
              "    </tr>\n",
              "    <tr>\n",
              "      <th>2016-01-01 03:00:00</th>\n",
              "      <td>1</td>\n",
              "      <td>3</td>\n",
              "      <td>5.9</td>\n",
              "      <td>0.91</td>\n",
              "      <td>0</td>\n",
              "      <td>30</td>\n",
              "      <td>10232</td>\n",
              "    </tr>\n",
              "    <tr>\n",
              "      <th>2016-01-01 04:00:00</th>\n",
              "      <td>1</td>\n",
              "      <td>4</td>\n",
              "      <td>4.2</td>\n",
              "      <td>0.96</td>\n",
              "      <td>0</td>\n",
              "      <td>20</td>\n",
              "      <td>10237</td>\n",
              "    </tr>\n",
              "    <tr>\n",
              "      <th>2016-01-01 05:00:00</th>\n",
              "      <td>1</td>\n",
              "      <td>5</td>\n",
              "      <td>4.0</td>\n",
              "      <td>0.98</td>\n",
              "      <td>0</td>\n",
              "      <td>20</td>\n",
              "      <td>10240</td>\n",
              "    </tr>\n",
              "    <tr>\n",
              "      <th>...</th>\n",
              "      <td>...</td>\n",
              "      <td>...</td>\n",
              "      <td>...</td>\n",
              "      <td>...</td>\n",
              "      <td>...</td>\n",
              "      <td>...</td>\n",
              "      <td>...</td>\n",
              "    </tr>\n",
              "    <tr>\n",
              "      <th>2018-12-31 19:00:00</th>\n",
              "      <td>12</td>\n",
              "      <td>19</td>\n",
              "      <td>8.7</td>\n",
              "      <td>0.93</td>\n",
              "      <td>0</td>\n",
              "      <td>30</td>\n",
              "      <td>10341</td>\n",
              "    </tr>\n",
              "    <tr>\n",
              "      <th>2018-12-31 20:00:00</th>\n",
              "      <td>12</td>\n",
              "      <td>20</td>\n",
              "      <td>8.5</td>\n",
              "      <td>0.92</td>\n",
              "      <td>0</td>\n",
              "      <td>30</td>\n",
              "      <td>10338</td>\n",
              "    </tr>\n",
              "    <tr>\n",
              "      <th>2018-12-31 21:00:00</th>\n",
              "      <td>12</td>\n",
              "      <td>21</td>\n",
              "      <td>8.2</td>\n",
              "      <td>0.89</td>\n",
              "      <td>0</td>\n",
              "      <td>40</td>\n",
              "      <td>10336</td>\n",
              "    </tr>\n",
              "    <tr>\n",
              "      <th>2018-12-31 22:00:00</th>\n",
              "      <td>12</td>\n",
              "      <td>22</td>\n",
              "      <td>7.6</td>\n",
              "      <td>0.94</td>\n",
              "      <td>0</td>\n",
              "      <td>40</td>\n",
              "      <td>10332</td>\n",
              "    </tr>\n",
              "    <tr>\n",
              "      <th>2018-12-31 23:00:00</th>\n",
              "      <td>12</td>\n",
              "      <td>23</td>\n",
              "      <td>7.6</td>\n",
              "      <td>0.94</td>\n",
              "      <td>0</td>\n",
              "      <td>40</td>\n",
              "      <td>10333</td>\n",
              "    </tr>\n",
              "  </tbody>\n",
              "</table>\n",
              "<p>26303 rows × 7 columns</p>\n",
              "</div>\n",
              "      <button class=\"colab-df-convert\" onclick=\"convertToInteractive('df-c50bcf2d-19fb-4b48-a764-ffc9fe897060')\"\n",
              "              title=\"Convert this dataframe to an interactive table.\"\n",
              "              style=\"display:none;\">\n",
              "        \n",
              "  <svg xmlns=\"http://www.w3.org/2000/svg\" height=\"24px\"viewBox=\"0 0 24 24\"\n",
              "       width=\"24px\">\n",
              "    <path d=\"M0 0h24v24H0V0z\" fill=\"none\"/>\n",
              "    <path d=\"M18.56 5.44l.94 2.06.94-2.06 2.06-.94-2.06-.94-.94-2.06-.94 2.06-2.06.94zm-11 1L8.5 8.5l.94-2.06 2.06-.94-2.06-.94L8.5 2.5l-.94 2.06-2.06.94zm10 10l.94 2.06.94-2.06 2.06-.94-2.06-.94-.94-2.06-.94 2.06-2.06.94z\"/><path d=\"M17.41 7.96l-1.37-1.37c-.4-.4-.92-.59-1.43-.59-.52 0-1.04.2-1.43.59L10.3 9.45l-7.72 7.72c-.78.78-.78 2.05 0 2.83L4 21.41c.39.39.9.59 1.41.59.51 0 1.02-.2 1.41-.59l7.78-7.78 2.81-2.81c.8-.78.8-2.07 0-2.86zM5.41 20L4 18.59l7.72-7.72 1.47 1.35L5.41 20z\"/>\n",
              "  </svg>\n",
              "      </button>\n",
              "      \n",
              "  <style>\n",
              "    .colab-df-container {\n",
              "      display:flex;\n",
              "      flex-wrap:wrap;\n",
              "      gap: 12px;\n",
              "    }\n",
              "\n",
              "    .colab-df-convert {\n",
              "      background-color: #E8F0FE;\n",
              "      border: none;\n",
              "      border-radius: 50%;\n",
              "      cursor: pointer;\n",
              "      display: none;\n",
              "      fill: #1967D2;\n",
              "      height: 32px;\n",
              "      padding: 0 0 0 0;\n",
              "      width: 32px;\n",
              "    }\n",
              "\n",
              "    .colab-df-convert:hover {\n",
              "      background-color: #E2EBFA;\n",
              "      box-shadow: 0px 1px 2px rgba(60, 64, 67, 0.3), 0px 1px 3px 1px rgba(60, 64, 67, 0.15);\n",
              "      fill: #174EA6;\n",
              "    }\n",
              "\n",
              "    [theme=dark] .colab-df-convert {\n",
              "      background-color: #3B4455;\n",
              "      fill: #D2E3FC;\n",
              "    }\n",
              "\n",
              "    [theme=dark] .colab-df-convert:hover {\n",
              "      background-color: #434B5C;\n",
              "      box-shadow: 0px 1px 3px 1px rgba(0, 0, 0, 0.15);\n",
              "      filter: drop-shadow(0px 1px 2px rgba(0, 0, 0, 0.3));\n",
              "      fill: #FFFFFF;\n",
              "    }\n",
              "  </style>\n",
              "\n",
              "      <script>\n",
              "        const buttonEl =\n",
              "          document.querySelector('#df-c50bcf2d-19fb-4b48-a764-ffc9fe897060 button.colab-df-convert');\n",
              "        buttonEl.style.display =\n",
              "          google.colab.kernel.accessAllowed ? 'block' : 'none';\n",
              "\n",
              "        async function convertToInteractive(key) {\n",
              "          const element = document.querySelector('#df-c50bcf2d-19fb-4b48-a764-ffc9fe897060');\n",
              "          const dataTable =\n",
              "            await google.colab.kernel.invokeFunction('convertToInteractive',\n",
              "                                                     [key], {});\n",
              "          if (!dataTable) return;\n",
              "\n",
              "          const docLinkHtml = 'Like what you see? Visit the ' +\n",
              "            '<a target=\"_blank\" href=https://colab.research.google.com/notebooks/data_table.ipynb>data table notebook</a>'\n",
              "            + ' to learn more about interactive tables.';\n",
              "          element.innerHTML = '';\n",
              "          dataTable['output_type'] = 'display_data';\n",
              "          await google.colab.output.renderOutput(dataTable, element);\n",
              "          const docLink = document.createElement('div');\n",
              "          docLink.innerHTML = docLinkHtml;\n",
              "          element.appendChild(docLink);\n",
              "        }\n",
              "      </script>\n",
              "    </div>\n",
              "  </div>\n",
              "  "
            ]
          },
          "metadata": {},
          "execution_count": 17
        }
      ],
      "source": [
        "#Reduce number of features with lower correlation values or it has an inverse effect on the results of the model.\n",
        "knmi_updated= knmi.loc[:, ~knmi.columns.isin([\"TD\",\"U\",\"DR\",\"FX\"])] # ~ sign drops the columns we select\n",
        "knmi_updated"
      ]
    },
    {
      "cell_type": "code",
      "execution_count": null,
      "metadata": {
        "colab": {
          "base_uri": "https://localhost:8080/",
          "height": 455
        },
        "id": "ndntj91n2rkK",
        "outputId": "c73bfa76-e4b9-4f8f-ce05-c5fba0119b2e"
      },
      "outputs": [
        {
          "output_type": "execute_result",
          "data": {
            "text/plain": [
              "                     building 41\n",
              "Time                            \n",
              "2016-11-29 03:00:00    22.370362\n",
              "2018-01-29 11:00:00    24.725137\n",
              "2018-07-03 20:00:00    36.028058\n",
              "2017-09-05 16:00:00    44.034292\n",
              "2017-03-08 06:00:00    19.309155\n",
              "...                          ...\n",
              "2017-06-30 20:00:00    29.434687\n",
              "2018-03-29 17:00:00    21.899408\n",
              "2017-02-14 06:00:00    21.192975\n",
              "2017-03-26 00:00:00    19.544633\n",
              "2016-04-23 21:00:00    20.722020\n",
              "\n",
              "[21042 rows x 1 columns]"
            ],
            "text/html": [
              "\n",
              "  <div id=\"df-2be5489a-5921-4233-9d16-cdb2b3a73b23\">\n",
              "    <div class=\"colab-df-container\">\n",
              "      <div>\n",
              "<style scoped>\n",
              "    .dataframe tbody tr th:only-of-type {\n",
              "        vertical-align: middle;\n",
              "    }\n",
              "\n",
              "    .dataframe tbody tr th {\n",
              "        vertical-align: top;\n",
              "    }\n",
              "\n",
              "    .dataframe thead th {\n",
              "        text-align: right;\n",
              "    }\n",
              "</style>\n",
              "<table border=\"1\" class=\"dataframe\">\n",
              "  <thead>\n",
              "    <tr style=\"text-align: right;\">\n",
              "      <th></th>\n",
              "      <th>building 41</th>\n",
              "    </tr>\n",
              "    <tr>\n",
              "      <th>Time</th>\n",
              "      <th></th>\n",
              "    </tr>\n",
              "  </thead>\n",
              "  <tbody>\n",
              "    <tr>\n",
              "      <th>2016-11-29 03:00:00</th>\n",
              "      <td>22.370362</td>\n",
              "    </tr>\n",
              "    <tr>\n",
              "      <th>2018-01-29 11:00:00</th>\n",
              "      <td>24.725137</td>\n",
              "    </tr>\n",
              "    <tr>\n",
              "      <th>2018-07-03 20:00:00</th>\n",
              "      <td>36.028058</td>\n",
              "    </tr>\n",
              "    <tr>\n",
              "      <th>2017-09-05 16:00:00</th>\n",
              "      <td>44.034292</td>\n",
              "    </tr>\n",
              "    <tr>\n",
              "      <th>2017-03-08 06:00:00</th>\n",
              "      <td>19.309155</td>\n",
              "    </tr>\n",
              "    <tr>\n",
              "      <th>...</th>\n",
              "      <td>...</td>\n",
              "    </tr>\n",
              "    <tr>\n",
              "      <th>2017-06-30 20:00:00</th>\n",
              "      <td>29.434687</td>\n",
              "    </tr>\n",
              "    <tr>\n",
              "      <th>2018-03-29 17:00:00</th>\n",
              "      <td>21.899408</td>\n",
              "    </tr>\n",
              "    <tr>\n",
              "      <th>2017-02-14 06:00:00</th>\n",
              "      <td>21.192975</td>\n",
              "    </tr>\n",
              "    <tr>\n",
              "      <th>2017-03-26 00:00:00</th>\n",
              "      <td>19.544633</td>\n",
              "    </tr>\n",
              "    <tr>\n",
              "      <th>2016-04-23 21:00:00</th>\n",
              "      <td>20.722020</td>\n",
              "    </tr>\n",
              "  </tbody>\n",
              "</table>\n",
              "<p>21042 rows × 1 columns</p>\n",
              "</div>\n",
              "      <button class=\"colab-df-convert\" onclick=\"convertToInteractive('df-2be5489a-5921-4233-9d16-cdb2b3a73b23')\"\n",
              "              title=\"Convert this dataframe to an interactive table.\"\n",
              "              style=\"display:none;\">\n",
              "        \n",
              "  <svg xmlns=\"http://www.w3.org/2000/svg\" height=\"24px\"viewBox=\"0 0 24 24\"\n",
              "       width=\"24px\">\n",
              "    <path d=\"M0 0h24v24H0V0z\" fill=\"none\"/>\n",
              "    <path d=\"M18.56 5.44l.94 2.06.94-2.06 2.06-.94-2.06-.94-.94-2.06-.94 2.06-2.06.94zm-11 1L8.5 8.5l.94-2.06 2.06-.94-2.06-.94L8.5 2.5l-.94 2.06-2.06.94zm10 10l.94 2.06.94-2.06 2.06-.94-2.06-.94-.94-2.06-.94 2.06-2.06.94z\"/><path d=\"M17.41 7.96l-1.37-1.37c-.4-.4-.92-.59-1.43-.59-.52 0-1.04.2-1.43.59L10.3 9.45l-7.72 7.72c-.78.78-.78 2.05 0 2.83L4 21.41c.39.39.9.59 1.41.59.51 0 1.02-.2 1.41-.59l7.78-7.78 2.81-2.81c.8-.78.8-2.07 0-2.86zM5.41 20L4 18.59l7.72-7.72 1.47 1.35L5.41 20z\"/>\n",
              "  </svg>\n",
              "      </button>\n",
              "      \n",
              "  <style>\n",
              "    .colab-df-container {\n",
              "      display:flex;\n",
              "      flex-wrap:wrap;\n",
              "      gap: 12px;\n",
              "    }\n",
              "\n",
              "    .colab-df-convert {\n",
              "      background-color: #E8F0FE;\n",
              "      border: none;\n",
              "      border-radius: 50%;\n",
              "      cursor: pointer;\n",
              "      display: none;\n",
              "      fill: #1967D2;\n",
              "      height: 32px;\n",
              "      padding: 0 0 0 0;\n",
              "      width: 32px;\n",
              "    }\n",
              "\n",
              "    .colab-df-convert:hover {\n",
              "      background-color: #E2EBFA;\n",
              "      box-shadow: 0px 1px 2px rgba(60, 64, 67, 0.3), 0px 1px 3px 1px rgba(60, 64, 67, 0.15);\n",
              "      fill: #174EA6;\n",
              "    }\n",
              "\n",
              "    [theme=dark] .colab-df-convert {\n",
              "      background-color: #3B4455;\n",
              "      fill: #D2E3FC;\n",
              "    }\n",
              "\n",
              "    [theme=dark] .colab-df-convert:hover {\n",
              "      background-color: #434B5C;\n",
              "      box-shadow: 0px 1px 3px 1px rgba(0, 0, 0, 0.15);\n",
              "      filter: drop-shadow(0px 1px 2px rgba(0, 0, 0, 0.3));\n",
              "      fill: #FFFFFF;\n",
              "    }\n",
              "  </style>\n",
              "\n",
              "      <script>\n",
              "        const buttonEl =\n",
              "          document.querySelector('#df-2be5489a-5921-4233-9d16-cdb2b3a73b23 button.colab-df-convert');\n",
              "        buttonEl.style.display =\n",
              "          google.colab.kernel.accessAllowed ? 'block' : 'none';\n",
              "\n",
              "        async function convertToInteractive(key) {\n",
              "          const element = document.querySelector('#df-2be5489a-5921-4233-9d16-cdb2b3a73b23');\n",
              "          const dataTable =\n",
              "            await google.colab.kernel.invokeFunction('convertToInteractive',\n",
              "                                                     [key], {});\n",
              "          if (!dataTable) return;\n",
              "\n",
              "          const docLinkHtml = 'Like what you see? Visit the ' +\n",
              "            '<a target=\"_blank\" href=https://colab.research.google.com/notebooks/data_table.ipynb>data table notebook</a>'\n",
              "            + ' to learn more about interactive tables.';\n",
              "          element.innerHTML = '';\n",
              "          dataTable['output_type'] = 'display_data';\n",
              "          await google.colab.output.renderOutput(dataTable, element);\n",
              "          const docLink = document.createElement('div');\n",
              "          docLink.innerHTML = docLinkHtml;\n",
              "          element.appendChild(docLink);\n",
              "        }\n",
              "      </script>\n",
              "    </div>\n",
              "  </div>\n",
              "  "
            ]
          },
          "metadata": {},
          "execution_count": 18
        }
      ],
      "source": [
        "#Splitting the data into training (80%) and testing (20%) set\n",
        "from sklearn.model_selection import train_test_split\n",
        "X_train, X_test, y_train, y_test = train_test_split(knmi_updated, Energy, test_size = 0.2, random_state = 0)\n",
        "y_train"
      ]
    },
    {
      "cell_type": "code",
      "execution_count": null,
      "metadata": {
        "colab": {
          "base_uri": "https://localhost:8080/"
        },
        "id": "79IWYBnD2rmn",
        "outputId": "b7e31b59-0ce1-41e4-fb86-c465dfbacc2c"
      },
      "outputs": [
        {
          "output_type": "execute_result",
          "data": {
            "text/plain": [
              "array([22.3703625, 24.7251375, 36.0280575, ..., 21.192975 , 19.5446325,\n",
              "       20.72202  ])"
            ]
          },
          "metadata": {},
          "execution_count": 19
        }
      ],
      "source": [
        "y_train = y_train.values.ravel() #ravel is a numpy function to change a 2-dimensional array or a multi-dimensional array into a continuous flattened array.\n",
        "y_train"
      ]
    },
    {
      "cell_type": "code",
      "execution_count": null,
      "metadata": {
        "colab": {
          "base_uri": "https://localhost:8080/"
        },
        "id": "oEJZMu7X2-2a",
        "outputId": "04e3fc06-9061-4750-e738-6a94d19f1511"
      },
      "outputs": [
        {
          "output_type": "execute_result",
          "data": {
            "text/plain": [
              "array([19.5446325, 32.2604175, 20.0155875, ..., 20.72202  , 28.4927775,\n",
              "       25.1960925])"
            ]
          },
          "metadata": {},
          "execution_count": 20
        }
      ],
      "source": [
        "y_test = y_test.values.ravel()\n",
        "y_test"
      ]
    },
    {
      "cell_type": "code",
      "execution_count": null,
      "metadata": {
        "colab": {
          "base_uri": "https://localhost:8080/"
        },
        "id": "AHT0TFUr2-5o",
        "outputId": "5d7c3cbb-e404-4186-95ba-2a775e09279f"
      },
      "outputs": [
        {
          "output_type": "execute_result",
          "data": {
            "text/plain": [
              "SVR()"
            ]
          },
          "metadata": {},
          "execution_count": 21
        }
      ],
      "source": [
        "# importing regression model \n",
        "from sklearn.svm import SVR\n",
        "\n",
        "#Creating an instance or object of the support vector machine regressor class\n",
        "SVReg = SVR(kernel= 'rbf') # It must be one of 'linear', 'poly', 'rbf', 'sigmoid' (rbf - Radial Basis Function is used in machine learning to find a non-linear regression line.)\n",
        "\n",
        "# fitting the regression model to the training dataset\n",
        "SVReg.fit(X_train, y_train) #Fit the SVM model according to the given training "
      ]
    },
    {
      "cell_type": "code",
      "execution_count": null,
      "metadata": {
        "colab": {
          "base_uri": "https://localhost:8080/"
        },
        "id": "V7zJzCsN2-80",
        "outputId": "58ef9a88-c2a6-477e-d590-2ddf9b7f56c6"
      },
      "outputs": [
        {
          "output_type": "execute_result",
          "data": {
            "text/plain": [
              "array([23.33747534, 23.52037698, 23.57941113, ..., 23.3715236 ,\n",
              "       23.38476265, 23.42220531])"
            ]
          },
          "metadata": {},
          "execution_count": 22
        }
      ],
      "source": [
        "# predicting on the training data\n",
        "Predicted_Train= SVReg.predict(X_train)\n",
        "Predicted_Train"
      ]
    },
    {
      "cell_type": "code",
      "execution_count": null,
      "metadata": {
        "colab": {
          "base_uri": "https://localhost:8080/"
        },
        "id": "Qhk_zmZc2_AG",
        "outputId": "f296b13f-28fa-4896-c8ef-79b0a2a1b321"
      },
      "outputs": [
        {
          "output_type": "stream",
          "name": "stdout",
          "text": [
            "0.01964854734223298\n",
            "39.16973198670731\n"
          ]
        }
      ],
      "source": [
        "# To evaluate the performance of the model, importing error metrics function\n",
        "from sklearn.metrics import r2_score #(coefficient of determination) regression score function.\n",
        "from sklearn.metrics import mean_squared_error #The MSE indicates the average distance of the best fit regression line to the observed values.\n",
        "\n",
        "print(r2_score(y_train,Predicted_Train))\n",
        "print(mean_squared_error(y_train,Predicted_Train))"
      ]
    },
    {
      "cell_type": "code",
      "execution_count": null,
      "metadata": {
        "id": "Y5ys7BhX2rqc"
      },
      "outputs": [],
      "source": [
        "# Import the required packages\n",
        "from sklearn.preprocessing import StandardScaler #standardizes the data to a range in which the mean is equal to 0 and the standard deviation is 1. It assumes the data is normally distributed.\n",
        "from sklearn.preprocessing import MinMaxScaler #normalizes the data and brings the values between 0 (lowest value) and 1 (highest value)\n",
        "from sklearn.preprocessing import RobustScaler #standardizes the data. But is more robust to outliers because it only scales the data according to the Interquartile Range (IQR) between the 1st and 3rd quartile.\n",
        "\n",
        "#Generate the scaler\n",
        "sc1= StandardScaler()\n",
        "sc2= MinMaxScaler()\n",
        "sc3= RobustScaler()"
      ]
    },
    {
      "cell_type": "code",
      "execution_count": null,
      "metadata": {
        "id": "EEjtw3Og2r0I"
      },
      "outputs": [],
      "source": [
        "#Scaling the input data\n",
        "X1 = sc1.fit_transform(knmi_updated)\n",
        "X2 = sc2.fit_transform(knmi_updated)\n",
        "X3 = sc3.fit_transform(knmi_updated)"
      ]
    },
    {
      "cell_type": "code",
      "execution_count": null,
      "metadata": {
        "colab": {
          "base_uri": "https://localhost:8080/",
          "height": 406
        },
        "id": "IycxagM-2r2X",
        "outputId": "0232ce54-4260-47b0-bffa-eec4933e0b4b"
      },
      "outputs": [
        {
          "output_type": "stream",
          "name": "stderr",
          "text": [
            "/usr/local/lib/python3.8/dist-packages/seaborn/distributions.py:2619: FutureWarning: `distplot` is a deprecated function and will be removed in a future version. Please adapt your code to use either `displot` (a figure-level function with similar flexibility) or `histplot` (an axes-level function for histograms).\n",
            "  warnings.warn(msg, FutureWarning)\n",
            "/usr/local/lib/python3.8/dist-packages/seaborn/distributions.py:2619: FutureWarning: `distplot` is a deprecated function and will be removed in a future version. Please adapt your code to use either `displot` (a figure-level function with similar flexibility) or `histplot` (an axes-level function for histograms).\n",
            "  warnings.warn(msg, FutureWarning)\n",
            "/usr/local/lib/python3.8/dist-packages/seaborn/distributions.py:2619: FutureWarning: `distplot` is a deprecated function and will be removed in a future version. Please adapt your code to use either `displot` (a figure-level function with similar flexibility) or `histplot` (an axes-level function for histograms).\n",
            "  warnings.warn(msg, FutureWarning)\n"
          ]
        },
        {
          "output_type": "execute_result",
          "data": {
            "text/plain": [
              "<matplotlib.legend.Legend at 0x7f87841d5fd0>"
            ]
          },
          "metadata": {},
          "execution_count": 28
        },
        {
          "output_type": "display_data",
          "data": {
            "text/plain": [
              "<Figure size 432x288 with 1 Axes>"
            ],
            "image/png": "[encoded data removed]"
          },
          "metadata": {
            "needs_background": "light"
          }
        }
      ],
      "source": [
        "#plotting to visually explore the scaled features\n",
        "sns.distplot(X1,color=\"red\",label=\"StdScaler\")\n",
        "sns.distplot(X2,color=\"blue\",label=\"MinMax\")\n",
        "sns.distplot(X3,color=\"black\",label=\"RobustScaler\")\n",
        "plt.legend()"
      ]
    },
    {
      "cell_type": "code",
      "execution_count": null,
      "metadata": {
        "id": "_K9ekQSI2r5c"
      },
      "outputs": [],
      "source": [
        "#Split your data set into training (80%) and test data (20%)\n",
        "X_train, X_test, y_train, y_test = train_test_split(X1, Energy, test_size=0.2, random_state=0, shuffle= \"False\")\n",
        "y_train = y_train.values.ravel()\n",
        "y_test = y_test.values.ravel()"
      ]
    },
    {
      "cell_type": "code",
      "execution_count": null,
      "metadata": {
        "colab": {
          "base_uri": "https://localhost:8080/"
        },
        "id": "Bmck3_2-2r7X",
        "outputId": "7b27a867-ee89-436d-f8e8-bd784d9e7b0c"
      },
      "outputs": [
        {
          "output_type": "execute_result",
          "data": {
            "text/plain": [
              "SVR()"
            ]
          },
          "metadata": {},
          "execution_count": 30
        }
      ],
      "source": [
        "#building the regressor and fit the training data to the regressor\n",
        "regr = SVR(kernel='rbf')\n",
        "regr= regr.fit(X_train, y_train)\n",
        "regr"
      ]
    },
    {
      "cell_type": "code",
      "execution_count": null,
      "metadata": {
        "id": "9r_qY6x86hLB"
      },
      "outputs": [],
      "source": [
        "# fitting the regression model to the training data\n",
        "regr.fit(X_train, y_train) #Fit the SVM model according to the given training data.\n",
        "# predicting on the training data\n",
        "predict_train= regr.predict(X_train)"
      ]
    },
    {
      "cell_type": "code",
      "execution_count": null,
      "metadata": {
        "colab": {
          "base_uri": "https://localhost:8080/"
        },
        "id": "zSuFpFIk6hTv",
        "outputId": "603d0e7e-efe0-452f-99b8-93fad34c34f7"
      },
      "outputs": [
        {
          "output_type": "stream",
          "name": "stdout",
          "text": [
            "0.8676607662388549\n",
            "5.287585695616701\n"
          ]
        }
      ],
      "source": [
        "#testing the model training accuracy \n",
        "print(r2_score(y_train, predict_train))\n",
        "print(mean_squared_error(y_train, predict_train))"
      ]
    },
    {
      "cell_type": "code",
      "execution_count": null,
      "metadata": {
        "colab": {
          "base_uri": "https://localhost:8080/"
        },
        "id": "SCj3Dn0a6hc4",
        "outputId": "323cefda-89dc-454f-c4f0-e42e3c12c56f"
      },
      "outputs": [
        {
          "output_type": "stream",
          "name": "stdout",
          "text": [
            "0.865011398619708\n",
            "5.364047670294079\n"
          ]
        }
      ],
      "source": [
        "#Predicting on the test data\n",
        "pred= regr.predict(X_test)\n",
        "##testing the models accuracy on the test data\n",
        "print(r2_score(y_test, pred))\n",
        "print(mean_squared_error(y_test, pred))"
      ]
    },
    {
      "cell_type": "code",
      "execution_count": null,
      "metadata": {
        "colab": {
          "base_uri": "https://localhost:8080/"
        },
        "id": "bQU30Vwm6hkj",
        "outputId": "0cbfcbb5-89b5-4cb2-a87e-4e1aa93f9d8f"
      },
      "outputs": [
        {
          "output_type": "stream",
          "name": "stdout",
          "text": [
            "0.8543589078950263\n",
            "5.819058592240028\n"
          ]
        }
      ],
      "source": [
        "#Split your data set into training (80%) and test data (20%)\n",
        "X_train, X_test, y_train, y_test = train_test_split(X2, Energy, test_size=0.2, random_state=0, shuffle= \"False\")\n",
        "y_train = y_train.values.ravel()\n",
        "y_test = y_test.values.ravel()\n",
        "\n",
        "#building the regressor and fit the training data to the regressor\n",
        "regr = SVR(kernel='rbf')\n",
        "regr= regr.fit(X_train, y_train)\n",
        "\n",
        "# fitting the regression model to the training data\n",
        "regr.fit(X_train, y_train) #Fit the SVM model according to the given training data.\n",
        "# predicting on the training data\n",
        "predict_train= regr.predict(X_train)\n",
        "\n",
        "#testing the model training accuracy \n",
        "print(r2_score(y_train, predict_train))\n",
        "print(mean_squared_error(y_train, predict_train))"
      ]
    },
    {
      "cell_type": "code",
      "execution_count": null,
      "metadata": {
        "colab": {
          "base_uri": "https://localhost:8080/"
        },
        "id": "o27uHVn66hsY",
        "outputId": "8a70300a-b60f-4014-859e-ce5f9d41fb56"
      },
      "outputs": [
        {
          "output_type": "stream",
          "name": "stdout",
          "text": [
            "0.8514063183174978\n",
            "5.904673312407658\n"
          ]
        }
      ],
      "source": [
        "#Predicting on the test data\n",
        "pred= regr.predict(X_test)\n",
        "##testing the models accuracy on the test data\n",
        "print(r2_score(y_test, pred))\n",
        "print(mean_squared_error(y_test, pred))"
      ]
    },
    {
      "cell_type": "code",
      "execution_count": null,
      "metadata": {
        "colab": {
          "base_uri": "https://localhost:8080/"
        },
        "id": "UlwXsEEA6h0D",
        "outputId": "12604615-627f-4f5b-83eb-f77dd766b766"
      },
      "outputs": [
        {
          "output_type": "stream",
          "name": "stdout",
          "text": [
            "0.861376711378752\n",
            "5.538663759501534\n"
          ]
        }
      ],
      "source": [
        "#Split your data set into training (80%) and test data (20%)\n",
        "X_train, X_test, y_train, y_test = train_test_split(X3, Energy, test_size=0.2, random_state=0, shuffle= \"False\")\n",
        "y_train = y_train.values.ravel()\n",
        "y_test = y_test.values.ravel()\n",
        "\n",
        "#building the regressor and fit the training data to the regressor\n",
        "regr = SVR(kernel='rbf')\n",
        "regr= regr.fit(X_train, y_train)\n",
        "\n",
        "# fitting the regression model to the training data\n",
        "regr.fit(X_train, y_train) #Fit the SVM model according to the given training data.\n",
        "# predicting on the training data\n",
        "predict_train= regr.predict(X_train)\n",
        "\n",
        "#testing the model training accuracy \n",
        "print(r2_score(y_train, predict_train))\n",
        "print(mean_squared_error(y_train, predict_train))"
      ]
    },
    {
      "cell_type": "code",
      "execution_count": null,
      "metadata": {
        "colab": {
          "base_uri": "https://localhost:8080/"
        },
        "id": "hWhTeSmg6h76",
        "outputId": "b1044e11-6d8e-4171-b5c4-31277b847dd0"
      },
      "outputs": [
        {
          "output_type": "stream",
          "name": "stdout",
          "text": [
            "0.8581322813412404\n",
            "5.637403439847455\n"
          ]
        }
      ],
      "source": [
        "#Predicting on the test data\n",
        "pred= regr.predict(X_test)\n",
        "##testing the models accuracy on the test data\n",
        "print(r2_score(y_test, pred))\n",
        "print(mean_squared_error(y_test, pred))"
      ]
    },
    {
      "cell_type": "code",
      "execution_count": null,
      "metadata": {
        "colab": {
          "base_uri": "https://localhost:8080/"
        },
        "id": "tJJ5ImHm6iDy",
        "outputId": "38f21fde-51e0-4ae2-dc4f-93b0908a4bca"
      },
      "outputs": [
        {
          "output_type": "stream",
          "name": "stdout",
          "text": [
            "0.6243431637454044\n",
            "15.009288306939018\n"
          ]
        }
      ],
      "source": [
        "#Split your data set into training (80%) and test data (20%)\n",
        "X_train, X_test, y_train, y_test = train_test_split(X1, Energy, test_size=0.2, random_state=0, shuffle= \"False\")\n",
        "y_train = y_train.values.ravel()\n",
        "y_test = y_test.values.ravel()\n",
        "\n",
        "#building the regressor and fit the training data to the regressor\n",
        "regr = SVR(kernel='poly', degree=5) # y = ax5 + bx4 + cx3 + dx2 + ex + f\n",
        "\n",
        "# fitting the regression model to the training data\n",
        "regr.fit(X_train, y_train) #Fit the SVM model according to the given training data.\n",
        "# predicting on the training data\n",
        "predict_train= regr.predict(X_train)\n",
        "\n",
        "#testing the model training accuracy \n",
        "print(r2_score(y_train, predict_train))\n",
        "print(mean_squared_error(y_train, predict_train))"
      ]
    },
    {
      "cell_type": "code",
      "execution_count": null,
      "metadata": {
        "id": "PBb4JpKm6iMO"
      },
      "outputs": [],
      "source": [
        "X4 = sc1.fit_transform(knmi.loc[:, ~knmi.columns.isin([\"U\"])])"
      ]
    },
    {
      "cell_type": "code",
      "execution_count": null,
      "metadata": {
        "colab": {
          "base_uri": "https://localhost:8080/"
        },
        "id": "Xdl_B9Kl6iUD",
        "outputId": "e86e7463-05a7-4742-b598-6982dcdbba3e"
      },
      "outputs": [
        {
          "output_type": "stream",
          "name": "stdout",
          "text": [
            "0.8692363907335192\n",
            "5.224631956934131\n"
          ]
        }
      ],
      "source": [
        "#We redefine the data for standard scaling and split into training (80%) and test data (20%)\n",
        "X_train, X_test, y_train, y_test = train_test_split(X4, Energy, test_size=0.2, random_state=0, shuffle= \"False\")\n",
        "y_train = y_train.values.ravel()\n",
        "y_test = y_test.values.ravel()\n",
        "\n",
        "#building the regressor and fit the training data to the regressor\n",
        "regr = SVR(kernel='rbf')\n",
        "regr= regr.fit(X_train, y_train)\n",
        "\n",
        "# fitting the regression model to the training data\n",
        "regr.fit(X_train, y_train) #Fit the SVM model according to the given training data.\n",
        "# predicting on the training data\n",
        "predict_train= regr.predict(X_train)\n",
        "\n",
        "#testing the model training accuracy \n",
        "print(r2_score(y_train, predict_train))\n",
        "print(mean_squared_error(y_train, predict_train))"
      ]
    },
    {
      "cell_type": "code",
      "execution_count": null,
      "metadata": {
        "colab": {
          "base_uri": "https://localhost:8080/"
        },
        "id": "xlGl10HJ6ifn",
        "outputId": "dde36548-1d1f-438d-c65c-397bf3baf973"
      },
      "outputs": [
        {
          "output_type": "stream",
          "name": "stdout",
          "text": [
            "0.8656435535968942\n",
            "5.338927701659932\n"
          ]
        }
      ],
      "source": [
        "#Predicting on the test data\n",
        "pred= regr.predict(X_test)\n",
        "##testing the models accuracy on the test data\n",
        "print(r2_score(y_test, pred))\n",
        "print(mean_squared_error(y_test, pred))"
      ]
    },
    {
      "cell_type": "code",
      "execution_count": null,
      "metadata": {
        "colab": {
          "base_uri": "https://localhost:8080/",
          "height": 351
        },
        "id": "OZUZnfNh6iv-",
        "outputId": "1084a557-911d-4c31-b31e-a53a7975adfc"
      },
      "outputs": [
        {
          "output_type": "execute_result",
          "data": {
            "text/plain": [
              "Text(0, 0.5, 'kWh')"
            ]
          },
          "metadata": {},
          "execution_count": 42
        },
        {
          "output_type": "display_data",
          "data": {
            "text/plain": [
              "<Figure size 1440x360 with 1 Axes>"
            ],
            "image/png": "[encoded data removed]"
          },
          "metadata": {
            "needs_background": "light"
          }
        }
      ],
      "source": [
        "plt.figure(figsize = (20,5))\n",
        "plt.plot(y_test, label=\"Original\")\n",
        "plt.plot(pred, label=\"Predicted\")\n",
        "plt.legend(loc='best')\n",
        "plt.xlabel('Time (Hours)')\n",
        "plt.ylabel('kWh')"
      ]
    },
    {
      "cell_type": "code",
      "execution_count": null,
      "metadata": {
        "colab": {
          "background_save": true
        },
        "id": "6JaU1WvY7e0R"
      },
      "outputs": [],
      "source": [
        "from sklearn.model_selection import GridSearchCV\n",
        "#settings for hyperparameters\n",
        "check_parameters = {'C':[10,20,30], 'epsilon':[0.03, 0.5, 1], 'gamma':[5,6,7]}\n",
        "\n",
        "gridsearchcv = GridSearchCV(regr, check_parameters, n_jobs=-1, cv=3)\n",
        "gridsearchcv.fit(X_train, y_train)\n",
        "\n",
        "print('Best parameters found:\\n', gridsearchcv.best_params_)"
      ]
    },
    {
      "cell_type": "code",
      "execution_count": null,
      "metadata": {
        "colab": {
          "background_save": true
        },
        "id": "yE2HZUmB7e3X",
        "outputId": "4df5a809-6780-4b05-f8e3-38aa86983655"
      },
      "outputs": [
        {
          "name": "stdout",
          "output_type": "stream",
          "text": [
            "0.8692363907335192\n",
            "5.224631956934131\n"
          ]
        }
      ],
      "source": [
        "# We find best_svr result: C=30, epsilon=0.03, gamma=5. Considering these parameters, the model becomes as following:\n",
        "Regr = SVR(kernel= 'rbf', C=30, epsilon = 0.03, gamma = 5) \n",
        "\n",
        "# fitting the regression model to the training data\n",
        "regr.fit(X_train, y_train) #Fit the SVM model according to the given training data.\n",
        "# predicting on the training data\n",
        "predict_train= regr.predict(X_train)\n",
        "\n",
        "#testing the model training accuracy \n",
        "print(r2_score(y_train, predict_train))\n",
        "print(mean_squared_error(y_train, predict_train))"
      ]
    },
    {
      "cell_type": "code",
      "execution_count": null,
      "metadata": {
        "colab": {
          "background_save": true
        },
        "id": "OItTOq9X7e6C",
        "outputId": "baf8f91d-6cbc-4e12-dc1b-d85fe813faeb"
      },
      "outputs": [
        {
          "name": "stdout",
          "output_type": "stream",
          "text": [
            "0.8692363907335192\n",
            "5.224631956934131\n"
          ]
        }
      ],
      "source": [
        "Regr = SVR(kernel= 'rbf', C=40, epsilon = 0.03, gamma = 5) \n",
        "\n",
        "# fitting the regression model to the training data\n",
        "regr.fit(X_train, y_train) #Fit the SVM model according to the given training data.\n",
        "# predicting on the training data\n",
        "predict_train= regr.predict(X_train)\n",
        "\n",
        "#testing the model training accuracy \n",
        "print(r2_score(y_train, predict_train))\n",
        "print(mean_squared_error(y_train, predict_train))"
      ]
    },
    {
      "cell_type": "code",
      "execution_count": null,
      "metadata": {
        "id": "h0xC4SXK7e90"
      },
      "outputs": [],
      "source": [
        "#importing the ensemble module for the random forest regressor from sklearn library\n",
        "from sklearn.ensemble import RandomForestRegressor\n",
        "\n",
        "# Creating an instance of the random forest regressor\n",
        "RFReg = RandomForestRegressor(max_depth=10, random_state=0)\n",
        "\n",
        "# fitting the regression model to the training data\n",
        "X_train2, X_test2, y_train2, y_test2 = train_test_split(X1, Energy, test_size=0.2, random_state=0, shuffle= \"False\")\n",
        "y_train2 = y_train2.values.ravel()\n",
        "y_test2 = y_test2.values.ravel()\n",
        "RFReg.fit(X_train2, y_train2)\n",
        "\n",
        "#Predicting on the training data\n",
        "Predicted_Train2= RFReg.predict(X_train2)\n",
        "\n",
        "#Caculating R2 score and Root mean square error\n",
        "print(r2_score(y_train2, Predicted_Train2))\n",
        "print(mean_squared_error(y_train2, Predicted_Train2))"
      ]
    },
    {
      "cell_type": "code",
      "execution_count": null,
      "metadata": {
        "id": "k4h6-izI8FWe"
      },
      "outputs": [],
      "source": [
        "# Lets visualise our fit to the training data.\n",
        "plt.plot(y_train2, color=\"b\",label= 'Original Data')\n",
        "plt.plot(Predicted_Train2, color =\"red\", label=\"RFReg predicted data\")\n",
        "plt.xlabel('Time (Hours)')\n",
        "plt.ylabel('kWh')\n",
        "plt.legend(loc='best')\n",
        "plt.show()"
      ]
    },
    {
      "cell_type": "code",
      "execution_count": null,
      "metadata": {
        "id": "gi542VO48FZv"
      },
      "outputs": [],
      "source": [
        "#Predicting on the test set (X_test)\n",
        "Predicted_Test2 = RFReg.predict(X_test2)\n",
        "\n",
        "#Caculating R2 score and Root mean square error\n",
        "print(r2_score(y_test2,Predicted_Test2))\n",
        "print(mean_squared_error(y_test2,Predicted_Test2))"
      ]
    },
    {
      "cell_type": "code",
      "execution_count": null,
      "metadata": {
        "id": "B6mUQIR18Fcc"
      },
      "outputs": [],
      "source": [
        "# Lets visualise our fit to the test data.\n",
        "plt.plot(y_test2, color='blue', label=\"Actual\")\n",
        "plt.plot(Predicted_Test2, color='Red', label=\"Predicted\")\n",
        "plt.xlabel('Time (Hours)')\n",
        "plt.ylabel('kWh')\n",
        "plt.legend(loc='best')"
      ]
    },
    {
      "cell_type": "code",
      "execution_count": null,
      "metadata": {
        "id": "qTv5rKZa8Ffr"
      },
      "outputs": [],
      "source": [
        "from sklearn.model_selection import GridSearchCV"
      ]
    },
    {
      "cell_type": "code",
      "execution_count": null,
      "metadata": {
        "id": "W9-RuWFV8Fi4"
      },
      "outputs": [],
      "source": [
        "#settings for hyperparameters\n",
        "check_parameters = {'max_depth':[8,9,11,12]}\n",
        "\n",
        "gridsearchcv = GridSearchCV(RFReg, check_parameters, n_jobs=-1, cv=3)\n",
        "gridsearchcv.fit(X_train, y_train)\n",
        "\n",
        "print('Best parameters found:\\n', gridsearchcv.best_params_)"
      ]
    },
    {
      "cell_type": "code",
      "execution_count": null,
      "metadata": {
        "id": "l2xKVmEP8Fl0"
      },
      "outputs": [],
      "source": [
        "#importing the ensemble module for the random forest regressor from sklearn library\n",
        "from sklearn.ensemble import RandomForestRegressor\n",
        "\n",
        "# Creating an instance of the random forest regressor\n",
        "RFReg = RandomForestRegressor(max_depth=12, random_state=0)\n",
        "\n",
        "# fitting the regression model to the training data\n",
        "X_train2, X_test2, y_train2, y_test2 = train_test_split(X4, Energy, test_size=0.2, random_state=0, shuffle= \"False\")\n",
        "y_train2 = y_train2.values.ravel()\n",
        "y_test2 = y_test2.values.ravel()\n",
        "RFReg.fit(X_train2, y_train2)\n",
        "\n",
        "#Predicting on the training data\n",
        "Predicted_Train2= RFReg.predict(X_train2)\n",
        "\n",
        "#Caculating R2 score and Root mean square error\n",
        "print(r2_score(y_train2, Predicted_Train2))\n",
        "print(mean_squared_error(y_train2, Predicted_Train2))"
      ]
    },
    {
      "cell_type": "code",
      "execution_count": null,
      "metadata": {
        "id": "mhbAT5j_8FoN"
      },
      "outputs": [],
      "source": [
        "#Predicting on the test set (X_test)\n",
        "Predicted_Test2 = RFReg.predict(X_test2)\n",
        "\n",
        "#Caculating R2 score and Root mean square error\n",
        "print(r2_score(y_test2,Predicted_Test2))\n",
        "print(mean_squared_error(y_test2,Predicted_Test2))"
      ]
    },
    {
      "cell_type": "code",
      "execution_count": null,
      "metadata": {
        "id": "nCy0hM8m8FrB"
      },
      "outputs": [],
      "source": [
        "#settings for hyperparameters\n",
        "check_parameters = {'max_depth':[15,20,30]}\n",
        "\n",
        "gridsearchcv = GridSearchCV(RFReg, check_parameters, n_jobs=-1, cv=10)\n",
        "gridsearchcv.fit(X_train, y_train)\n",
        "\n",
        "print('Best parameters found:\\n', gridsearchcv.best_params_)"
      ]
    },
    {
      "cell_type": "code",
      "execution_count": null,
      "metadata": {
        "id": "OVnRZ8nW8Fut"
      },
      "outputs": [],
      "source": [
        "#importing the ensemble module for the random forest regressor from sklearn library\n",
        "from sklearn.ensemble import RandomForestRegressor\n",
        "\n",
        "# Creating an instance of the random forest regressor\n",
        "RFReg = RandomForestRegressor(max_depth=30, random_state=0)\n",
        "\n",
        "# fitting the regression model to the training data\n",
        "X_train2, X_test2, y_train2, y_test2 = train_test_split(X4, Energy, test_size=0.2, random_state=0, shuffle= \"False\")\n",
        "y_train2 = y_train2.values.ravel()\n",
        "y_test2 = y_test2.values.ravel()\n",
        "RFReg.fit(X_train2, y_train2)\n",
        "\n",
        "#Predicting on the training data\n",
        "Predicted_Train2= RFReg.predict(X_train2)\n",
        "\n",
        "#Caculating R2 score and Root mean square error\n",
        "print(r2_score(y_train2, Predicted_Train2))\n",
        "print(mean_squared_error(y_train2, Predicted_Train2))"
      ]
    },
    {
      "cell_type": "code",
      "execution_count": null,
      "metadata": {
        "id": "YP2G27oB8sfT"
      },
      "outputs": [],
      "source": [
        "#Predicting on the test set (X_test)\n",
        "Predicted_Test2 = RFReg.predict(X_test2)\n",
        "\n",
        "#Caculating R2 score and Root mean square error\n",
        "print(r2_score(y_test2,Predicted_Test2))\n",
        "print(mean_squared_error(y_test2,Predicted_Test2))"
      ]
    },
    {
      "cell_type": "code",
      "execution_count": null,
      "metadata": {
        "id": "5DHv-Jgw8svk"
      },
      "outputs": [],
      "source": [
        "# Import the weather cost file\n",
        "path= \"/content/drive/MyDrive/Dataset/Weather_Cost.xlsx\"\n",
        "weather_cost = pd.read_excel(path)\n",
        "weather_cost"
      ]
    },
    {
      "cell_type": "code",
      "execution_count": null,
      "metadata": {
        "id": "Q7xKVIFP8_H9"
      },
      "outputs": [],
      "source": [
        "# Make time column as index\n",
        "weather_cost = weather_cost.set_index('Time')"
      ]
    },
    {
      "cell_type": "code",
      "execution_count": null,
      "metadata": {
        "id": "_SuKa0sQ9DJM"
      },
      "outputs": [],
      "source": [
        "#check missing value\n",
        "weather_cost.isna().sum()"
      ]
    },
    {
      "cell_type": "code",
      "execution_count": null,
      "metadata": {
        "id": "O1UeyBYZ9HP6"
      },
      "outputs": [],
      "source": [
        "#remove relative humidity column from the data set\n",
        "weather_cost_updated= weather_cost.loc[:, ~weather_cost.columns.isin(['U'])]"
      ]
    },
    {
      "cell_type": "code",
      "execution_count": null,
      "metadata": {
        "id": "42u-uuba9Hhc"
      },
      "outputs": [],
      "source": [
        "#scale the input data\n",
        "X5 = sc1.transform(weather_cost_updated)"
      ]
    },
    {
      "cell_type": "code",
      "execution_count": null,
      "metadata": {
        "id": "t1jz1SZk9IcE"
      },
      "outputs": [],
      "source": [
        "#predict the consumption\n",
        "predicted = RFReg.predict(X5)\n",
        "predicted.shape"
      ]
    },
    {
      "cell_type": "code",
      "execution_count": null,
      "metadata": {
        "id": "PPe70gwD9IfN"
      },
      "outputs": [],
      "source": [
        "#Converting the predicted array into a dataframe so it is easier when plotting to show the time index\n",
        "predicted= pd.DataFrame(predicted, columns=['kWh'])\n",
        "predicted"
      ]
    },
    {
      "cell_type": "code",
      "execution_count": null,
      "metadata": {
        "id": "LuOFcToc9IjA"
      },
      "outputs": [],
      "source": [
        "#Import the index from the weather cost file\n",
        "predicted['Time']= weather_cost.index\n",
        "predicted"
      ]
    },
    {
      "cell_type": "code",
      "execution_count": null,
      "metadata": {
        "id": "KJFh3Res9Wju"
      },
      "outputs": [],
      "source": [
        "#Set the time column as index\n",
        "predicted= predicted.set_index('Time')\n",
        "predicted"
      ]
    },
    {
      "cell_type": "code",
      "execution_count": null,
      "metadata": {
        "id": "XzLcq-SN9aDq"
      },
      "outputs": [],
      "source": [
        "#Plot the hourly forecast consumption in kWh \n",
        "fig, ax = plt.subplots(figsize = (16,5))\n",
        "ax.plot(predicted,  label='Hourly Predicted consumption',color = 'blue')\n",
        "ax.set_ylabel('Hourly Predicted consumption [kWh]',size=15, color='green')\n",
        "ax.set_xlabel('Time',size=15)"
      ]
    },
    {
      "cell_type": "code",
      "execution_count": null,
      "metadata": {
        "id": "Th9_sBSx9gi4"
      },
      "outputs": [],
      "source": [
        "#Calculating the hourly consumtion cost.\n",
        "Hourly_Cost= predicted*0.23\n",
        "Hourly_Cost"
      ]
    },
    {
      "cell_type": "code",
      "execution_count": null,
      "metadata": {
        "id": "vSS7jQ6I9hI7"
      },
      "outputs": [],
      "source": [
        "#Resampling the hourly consumption charges into daily by using the resample function and sum\n",
        "Daily_Cost = Hourly_Cost.resample(\"D\").sum()\n",
        "\n",
        "print(\"total cost\", Daily_Cost.sum())"
      ]
    },
    {
      "cell_type": "code",
      "execution_count": null,
      "metadata": {
        "id": "rZp0nFHr9hL1"
      },
      "outputs": [],
      "source": [
        "fig, ax = plt.subplots(figsize = (16,5))\n",
        "ax2 = ax.twinx() # Create another axes that shares the same x-axis as ax.\n",
        "ax.plot(Hourly_Cost,  label='Hourly Price',color = 'tab:red')\n",
        "ax2.plot(predicted,  label='Hourly Predicted consumption',color = 'tab:green')\n",
        "ax.set_ylabel('Hourly Price [Euro]', size=16, color='orange')\n",
        "ax2.set_ylabel('Hourly Predicted consumption [kWh]',size=16, color='green')\n",
        "ax.set_xlabel('Time',size=16,)\n",
        "fig.legend()"
      ]
    },
    {
      "cell_type": "code",
      "execution_count": null,
      "metadata": {
        "id": "zwOA98Ud9hO7"
      },
      "outputs": [],
      "source": [
        "fig, ax = plt.subplots(figsize = (16,5))\n",
        "ax2 = ax.twinx() # Create another axes that shares the same x-axis as ax.\n",
        "ax.plot(Hourly_Cost,  label='Hourly Price',color = 'tab:red')\n",
        "ax2.plot(predicted,  label='Hourly Predicted consumption',color = 'tab:green', linestyle='dashed')\n",
        "ax.set_ylabel('Hourly Price [Euro]', size=16, color='orange')\n",
        "ax2.set_ylabel('Hourly Predicted consumption [kWh]',size=16, color='green')\n",
        "ax.set_xlabel('Time',size=16)\n",
        "fig.legend()"
      ]
    },
    {
      "cell_type": "code",
      "execution_count": null,
      "metadata": {
        "id": "oA6QswVp9ulH"
      },
      "outputs": [],
      "source": [
        "fig, ax = plt.subplots(figsize=(16,5))\n",
        "ax2 = ax.twinx() # Create another axes that shares the same x-axis as ax.\n",
        "ax.plot(Daily_Cost, label= 'Daily price', color = 'tab:orange')\n",
        "ax2.plot(predicted, label='Hourly predicted consumption', color = 'tab:green')\n",
        "ax.set_ylabel('Daily Price [Euro]', size=15, color='orange')\n",
        "ax2.set_ylabel('Hourly Predicted consumption [kWh]',size=15, color='green')\n",
        "ax.set_xlabel('Time',size=15)\n",
        "fig.legend()"
      ]
    },
    {
      "cell_type": "code",
      "execution_count": null,
      "metadata": {
        "id": "PAqHpoxN9yM5"
      },
      "outputs": [],
      "source": [
        "fig = plt.figure(figsize = (16,5)) # Create matplotlib figure\n",
        "ax = fig.add_subplot(111) # Create matplotlib axes\n",
        "Daily_Cost.plot(kind='bar', ax=ax, rot=0,color='green')\n",
        "ax.axhline(y=160, color='red', linestyle='--', label=\"Warning for over budget \")\n",
        "plt.text(17, 165, 'Warning for over budget', fontsize=12)\n",
        "\n",
        "ax.set_ylabel('Consumption', size=16, color='black')\n",
        "plt.xticks(rotation='vertical')\n",
        "ax.set_xticklabels([dt.strftime('%Y-%m-%d') for dt in Daily_Cost.index])\n",
        "fig.legend()"
      ]
    }
  ],
  "metadata": {
    "colab": {
      "provenance": [],
      "mount_file_id": "1tifqDM2sc86zX1FL8LzZ-flA2qtuPUW5",
      "authorship_tag": "ABX9TyM7FV3QEDm8EhgLfh+5+c8k",
      "include_colab_link": true
    },
    "kernelspec": {
      "display_name": "Python 3",
      "name": "python3"
    },
    "language_info": {
      "name": "python"
    }
  },
  "nbformat": 4,
  "nbformat_minor": 0
}